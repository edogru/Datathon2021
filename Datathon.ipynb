{
 "cells": [
  {
   "cell_type": "code",
   "execution_count": 2,
   "id": "53b81810",
   "metadata": {},
   "outputs": [],
   "source": [
    "import pandas as pd\n",
    "import numpy as np\n",
    "import tensorflow as tf\n",
    "from sklearn.model_selection import train_test_split\n",
    "from sklearn.preprocessing import StandardScaler,MinMaxScaler\n",
    "from tensorflow.keras.layers import Dense\n",
    "from tensorflow.keras.optimizers import Optimizer\n",
    "from tensorflow.keras.models import Sequential"
   ]
  },
  {
   "cell_type": "code",
   "execution_count": 3,
   "id": "5710a13b",
   "metadata": {},
   "outputs": [],
   "source": [
    "train=pd.read_csv(\"veriler\\datathon\\\\train.csv\")\n",
    "sample=pd.read_csv(\"veriler\\datathon\\\\sample_solution.csv\")\n",
    "test=pd.read_csv(\"veriler\\datathon\\\\testFeatures.csv\")"
   ]
  },
  {
   "cell_type": "code",
   "execution_count": 83,
   "id": "2e5d71a1",
   "metadata": {},
   "outputs": [
    {
     "data": {
      "text/plain": [
       "45504"
      ]
     },
     "execution_count": 83,
     "metadata": {},
     "output_type": "execute_result"
    }
   ],
   "source": [
    "len(test)"
   ]
  },
  {
   "cell_type": "code",
   "execution_count": 206,
   "id": "8397fac6",
   "metadata": {},
   "outputs": [
    {
     "name": "stdout",
     "output_type": "stream",
     "text": [
      "<class 'pandas.core.frame.DataFrame'>\n",
      "RangeIndex: 227520 entries, 0 to 227519\n",
      "Data columns (total 8 columns):\n",
      " #   Column                                Non-Null Count   Dtype  \n",
      "---  ------                                --------------   -----  \n",
      " 0   tarih                                 227520 non-null  float64\n",
      " 1   fiyat                                 227520 non-null  float64\n",
      " 2   kategori_et                           227520 non-null  uint8  \n",
      " 3   kategori_kuruyemiş                    227520 non-null  uint8  \n",
      " 4   kategori_meyve                        227520 non-null  uint8  \n",
      " 5   kategori_sebze ve bakliyat            227520 non-null  uint8  \n",
      " 6   kategori_süt ürünleri ve kahvaltılık  227520 non-null  uint8  \n",
      " 7   kategori_tahıl ve ürünleri            227520 non-null  uint8  \n",
      "dtypes: float64(2), uint8(6)\n",
      "memory usage: 4.8 MB\n"
     ]
    }
   ],
   "source": [
    "train.info()"
   ]
  },
  {
   "cell_type": "code",
   "execution_count": 258,
   "id": "9b91258b",
   "metadata": {},
   "outputs": [
    {
     "data": {
      "text/plain": [
       "array(['2021-01-01', '2021-02-01', '2021-03-01', '2021-04-01',\n",
       "       '2021-05-01', '2021-06-01', '2021-07-01', '2021-08-01',\n",
       "       '2021-09-01', '2021-10-01', '2021-11-01', '2021-12-01'],\n",
       "      dtype=object)"
      ]
     },
     "execution_count": 258,
     "metadata": {},
     "output_type": "execute_result"
    }
   ],
   "source": [
    "test.tarih.unique()"
   ]
  },
  {
   "cell_type": "code",
   "execution_count": 23,
   "id": "78cfa77e",
   "metadata": {},
   "outputs": [
    {
     "data": {
      "text/plain": [
       "(227520, 8)"
      ]
     },
     "execution_count": 23,
     "metadata": {},
     "output_type": "execute_result"
    }
   ],
   "source": [
    "train.shape"
   ]
  },
  {
   "cell_type": "code",
   "execution_count": 16,
   "id": "4cdf0797",
   "metadata": {},
   "outputs": [
    {
     "data": {
      "text/plain": [
       "227520"
      ]
     },
     "execution_count": 16,
     "metadata": {},
     "output_type": "execute_result"
    }
   ],
   "source": [
    "len(train)"
   ]
  },
  {
   "cell_type": "code",
   "execution_count": 19,
   "id": "48865655",
   "metadata": {},
   "outputs": [
    {
     "data": {
      "text/plain": [
       "79"
      ]
     },
     "execution_count": 19,
     "metadata": {},
     "output_type": "execute_result"
    }
   ],
   "source": [
    "len(train.ürün.unique())"
   ]
  },
  {
   "cell_type": "code",
   "execution_count": 4,
   "id": "ac9b5791",
   "metadata": {},
   "outputs": [],
   "source": [
    "sutunisimler=[\"tarih\",\"urun\",\"besin\",\"kategori\",\"fiyat\",\"uretimyeri\",\"market\",\"sehir\"]\n",
    "train.columns=sutunisimler"
   ]
  },
  {
   "cell_type": "code",
   "execution_count": 5,
   "id": "2467d3e0",
   "metadata": {},
   "outputs": [
    {
     "data": {
      "text/html": [
       "<div>\n",
       "<style scoped>\n",
       "    .dataframe tbody tr th:only-of-type {\n",
       "        vertical-align: middle;\n",
       "    }\n",
       "\n",
       "    .dataframe tbody tr th {\n",
       "        vertical-align: top;\n",
       "    }\n",
       "\n",
       "    .dataframe thead th {\n",
       "        text-align: right;\n",
       "    }\n",
       "</style>\n",
       "<table border=\"1\" class=\"dataframe\">\n",
       "  <thead>\n",
       "    <tr style=\"text-align: right;\">\n",
       "      <th></th>\n",
       "      <th>tarih</th>\n",
       "      <th>urun</th>\n",
       "      <th>besin</th>\n",
       "      <th>kategori</th>\n",
       "      <th>fiyat</th>\n",
       "      <th>uretimyeri</th>\n",
       "      <th>market</th>\n",
       "      <th>sehir</th>\n",
       "    </tr>\n",
       "  </thead>\n",
       "  <tbody>\n",
       "    <tr>\n",
       "      <th>0</th>\n",
       "      <td>2016-01-01</td>\n",
       "      <td>kıyma</td>\n",
       "      <td>120</td>\n",
       "      <td>et</td>\n",
       "      <td>33.41</td>\n",
       "      <td>Yurt içi</td>\n",
       "      <td>M</td>\n",
       "      <td>A</td>\n",
       "    </tr>\n",
       "    <tr>\n",
       "      <th>1</th>\n",
       "      <td>2016-01-01</td>\n",
       "      <td>tavuk</td>\n",
       "      <td>103</td>\n",
       "      <td>et</td>\n",
       "      <td>11.22</td>\n",
       "      <td>Yurt içi</td>\n",
       "      <td>M</td>\n",
       "      <td>A</td>\n",
       "    </tr>\n",
       "    <tr>\n",
       "      <th>2</th>\n",
       "      <td>2016-01-01</td>\n",
       "      <td>hindi</td>\n",
       "      <td>160</td>\n",
       "      <td>et</td>\n",
       "      <td>11.12</td>\n",
       "      <td>Yurt içi</td>\n",
       "      <td>M</td>\n",
       "      <td>A</td>\n",
       "    </tr>\n",
       "    <tr>\n",
       "      <th>3</th>\n",
       "      <td>2016-01-01</td>\n",
       "      <td>Bakla-kuru</td>\n",
       "      <td>354</td>\n",
       "      <td>sebze ve bakliyat</td>\n",
       "      <td>7.02</td>\n",
       "      <td>Yurt içi</td>\n",
       "      <td>M</td>\n",
       "      <td>A</td>\n",
       "    </tr>\n",
       "    <tr>\n",
       "      <th>4</th>\n",
       "      <td>2016-01-01</td>\n",
       "      <td>Bakla-taze</td>\n",
       "      <td>72</td>\n",
       "      <td>sebze ve bakliyat</td>\n",
       "      <td>13.14</td>\n",
       "      <td>Yurt içi</td>\n",
       "      <td>M</td>\n",
       "      <td>A</td>\n",
       "    </tr>\n",
       "    <tr>\n",
       "      <th>5</th>\n",
       "      <td>2016-01-01</td>\n",
       "      <td>Bamya</td>\n",
       "      <td>42</td>\n",
       "      <td>sebze ve bakliyat</td>\n",
       "      <td>5.05</td>\n",
       "      <td>Yurt içi</td>\n",
       "      <td>M</td>\n",
       "      <td>A</td>\n",
       "    </tr>\n",
       "    <tr>\n",
       "      <th>6</th>\n",
       "      <td>2016-01-01</td>\n",
       "      <td>Barbunya-kuru</td>\n",
       "      <td>346</td>\n",
       "      <td>sebze ve bakliyat</td>\n",
       "      <td>5.97</td>\n",
       "      <td>Yurt içi</td>\n",
       "      <td>M</td>\n",
       "      <td>A</td>\n",
       "    </tr>\n",
       "    <tr>\n",
       "      <th>7</th>\n",
       "      <td>2016-01-01</td>\n",
       "      <td>Bezelye-taze</td>\n",
       "      <td>47</td>\n",
       "      <td>sebze ve bakliyat</td>\n",
       "      <td>12.19</td>\n",
       "      <td>Yurt içi</td>\n",
       "      <td>M</td>\n",
       "      <td>A</td>\n",
       "    </tr>\n",
       "    <tr>\n",
       "      <th>8</th>\n",
       "      <td>2016-01-01</td>\n",
       "      <td>Biber-yeşil</td>\n",
       "      <td>25</td>\n",
       "      <td>sebze ve bakliyat</td>\n",
       "      <td>12.15</td>\n",
       "      <td>Yurt içi</td>\n",
       "      <td>M</td>\n",
       "      <td>A</td>\n",
       "    </tr>\n",
       "    <tr>\n",
       "      <th>9</th>\n",
       "      <td>2016-01-01</td>\n",
       "      <td>Brüksel laha.</td>\n",
       "      <td>47</td>\n",
       "      <td>sebze ve bakliyat</td>\n",
       "      <td>23.53</td>\n",
       "      <td>Yurt içi</td>\n",
       "      <td>M</td>\n",
       "      <td>A</td>\n",
       "    </tr>\n",
       "    <tr>\n",
       "      <th>10</th>\n",
       "      <td>2016-01-01</td>\n",
       "      <td>Domates</td>\n",
       "      <td>25</td>\n",
       "      <td>sebze ve bakliyat</td>\n",
       "      <td>4.00</td>\n",
       "      <td>Yurt içi</td>\n",
       "      <td>M</td>\n",
       "      <td>A</td>\n",
       "    </tr>\n",
       "    <tr>\n",
       "      <th>11</th>\n",
       "      <td>2016-01-01</td>\n",
       "      <td>Enginar</td>\n",
       "      <td>63</td>\n",
       "      <td>sebze ve bakliyat</td>\n",
       "      <td>11.20</td>\n",
       "      <td>Yurt içi</td>\n",
       "      <td>M</td>\n",
       "      <td>A</td>\n",
       "    </tr>\n",
       "    <tr>\n",
       "      <th>12</th>\n",
       "      <td>2016-01-01</td>\n",
       "      <td>Fasulye-kuru</td>\n",
       "      <td>333</td>\n",
       "      <td>sebze ve bakliyat</td>\n",
       "      <td>9.17</td>\n",
       "      <td>Yurt içi</td>\n",
       "      <td>M</td>\n",
       "      <td>A</td>\n",
       "    </tr>\n",
       "    <tr>\n",
       "      <th>13</th>\n",
       "      <td>2016-01-01</td>\n",
       "      <td>Fasulye-taze</td>\n",
       "      <td>35</td>\n",
       "      <td>sebze ve bakliyat</td>\n",
       "      <td>9.12</td>\n",
       "      <td>Yurt içi</td>\n",
       "      <td>M</td>\n",
       "      <td>A</td>\n",
       "    </tr>\n",
       "    <tr>\n",
       "      <th>14</th>\n",
       "      <td>2016-01-01</td>\n",
       "      <td>Havuç</td>\n",
       "      <td>42</td>\n",
       "      <td>sebze ve bakliyat</td>\n",
       "      <td>7.91</td>\n",
       "      <td>Yurt içi</td>\n",
       "      <td>M</td>\n",
       "      <td>A</td>\n",
       "    </tr>\n",
       "    <tr>\n",
       "      <th>15</th>\n",
       "      <td>2016-01-01</td>\n",
       "      <td>Salatalık</td>\n",
       "      <td>8</td>\n",
       "      <td>sebze ve bakliyat</td>\n",
       "      <td>4.03</td>\n",
       "      <td>Yurt içi</td>\n",
       "      <td>M</td>\n",
       "      <td>A</td>\n",
       "    </tr>\n",
       "    <tr>\n",
       "      <th>16</th>\n",
       "      <td>2016-01-01</td>\n",
       "      <td>Ispanak</td>\n",
       "      <td>25</td>\n",
       "      <td>sebze ve bakliyat</td>\n",
       "      <td>12.21</td>\n",
       "      <td>Yurt içi</td>\n",
       "      <td>M</td>\n",
       "      <td>A</td>\n",
       "    </tr>\n",
       "    <tr>\n",
       "      <th>17</th>\n",
       "      <td>2016-01-01</td>\n",
       "      <td>Kabak</td>\n",
       "      <td>19</td>\n",
       "      <td>sebze ve bakliyat</td>\n",
       "      <td>8.03</td>\n",
       "      <td>Yurt içi</td>\n",
       "      <td>M</td>\n",
       "      <td>A</td>\n",
       "    </tr>\n",
       "    <tr>\n",
       "      <th>18</th>\n",
       "      <td>2016-01-01</td>\n",
       "      <td>Karnabahar</td>\n",
       "      <td>25</td>\n",
       "      <td>sebze ve bakliyat</td>\n",
       "      <td>8.03</td>\n",
       "      <td>Yurt içi</td>\n",
       "      <td>M</td>\n",
       "      <td>A</td>\n",
       "    </tr>\n",
       "    <tr>\n",
       "      <th>19</th>\n",
       "      <td>2016-01-01</td>\n",
       "      <td>Kereviz-baş</td>\n",
       "      <td>38</td>\n",
       "      <td>sebze ve bakliyat</td>\n",
       "      <td>6.11</td>\n",
       "      <td>Yurt içi</td>\n",
       "      <td>M</td>\n",
       "      <td>A</td>\n",
       "    </tr>\n",
       "    <tr>\n",
       "      <th>20</th>\n",
       "      <td>2016-01-01</td>\n",
       "      <td>Kırmızı-pancar</td>\n",
       "      <td>42</td>\n",
       "      <td>sebze ve bakliyat</td>\n",
       "      <td>6.09</td>\n",
       "      <td>Yurt içi</td>\n",
       "      <td>M</td>\n",
       "      <td>A</td>\n",
       "    </tr>\n",
       "    <tr>\n",
       "      <th>21</th>\n",
       "      <td>2016-01-01</td>\n",
       "      <td>Lahana</td>\n",
       "      <td>24</td>\n",
       "      <td>sebze ve bakliyat</td>\n",
       "      <td>7.15</td>\n",
       "      <td>Yurt içi</td>\n",
       "      <td>M</td>\n",
       "      <td>A</td>\n",
       "    </tr>\n",
       "    <tr>\n",
       "      <th>22</th>\n",
       "      <td>2016-01-01</td>\n",
       "      <td>Mantar</td>\n",
       "      <td>16</td>\n",
       "      <td>sebze ve bakliyat</td>\n",
       "      <td>13.24</td>\n",
       "      <td>Yurt içi</td>\n",
       "      <td>M</td>\n",
       "      <td>A</td>\n",
       "    </tr>\n",
       "    <tr>\n",
       "      <th>23</th>\n",
       "      <td>2016-01-01</td>\n",
       "      <td>Marul</td>\n",
       "      <td>15</td>\n",
       "      <td>sebze ve bakliyat</td>\n",
       "      <td>6.09</td>\n",
       "      <td>Yurt içi</td>\n",
       "      <td>M</td>\n",
       "      <td>A</td>\n",
       "    </tr>\n",
       "    <tr>\n",
       "      <th>24</th>\n",
       "      <td>2016-01-01</td>\n",
       "      <td>Mercimek-kuru</td>\n",
       "      <td>351</td>\n",
       "      <td>sebze ve bakliyat</td>\n",
       "      <td>5.10</td>\n",
       "      <td>Yurt içi</td>\n",
       "      <td>M</td>\n",
       "      <td>A</td>\n",
       "    </tr>\n",
       "    <tr>\n",
       "      <th>25</th>\n",
       "      <td>2016-01-01</td>\n",
       "      <td>Nohut</td>\n",
       "      <td>376</td>\n",
       "      <td>sebze ve bakliyat</td>\n",
       "      <td>4.59</td>\n",
       "      <td>Yurt içi</td>\n",
       "      <td>M</td>\n",
       "      <td>A</td>\n",
       "    </tr>\n",
       "    <tr>\n",
       "      <th>26</th>\n",
       "      <td>2016-01-01</td>\n",
       "      <td>Pancar</td>\n",
       "      <td>42</td>\n",
       "      <td>sebze ve bakliyat</td>\n",
       "      <td>6.74</td>\n",
       "      <td>Yurt içi</td>\n",
       "      <td>M</td>\n",
       "      <td>A</td>\n",
       "    </tr>\n",
       "    <tr>\n",
       "      <th>27</th>\n",
       "      <td>2016-01-01</td>\n",
       "      <td>Patates</td>\n",
       "      <td>83</td>\n",
       "      <td>sebze ve bakliyat</td>\n",
       "      <td>3.01</td>\n",
       "      <td>Yurt içi</td>\n",
       "      <td>M</td>\n",
       "      <td>A</td>\n",
       "    </tr>\n",
       "    <tr>\n",
       "      <th>28</th>\n",
       "      <td>2016-01-01</td>\n",
       "      <td>Patlıcan</td>\n",
       "      <td>24</td>\n",
       "      <td>sebze ve bakliyat</td>\n",
       "      <td>7.81</td>\n",
       "      <td>Yurt içi</td>\n",
       "      <td>M</td>\n",
       "      <td>A</td>\n",
       "    </tr>\n",
       "    <tr>\n",
       "      <th>29</th>\n",
       "      <td>2016-01-01</td>\n",
       "      <td>Pazı</td>\n",
       "      <td>27</td>\n",
       "      <td>sebze ve bakliyat</td>\n",
       "      <td>2.00</td>\n",
       "      <td>Yurt içi</td>\n",
       "      <td>M</td>\n",
       "      <td>A</td>\n",
       "    </tr>\n",
       "  </tbody>\n",
       "</table>\n",
       "</div>"
      ],
      "text/plain": [
       "         tarih            urun  besin           kategori  fiyat uretimyeri  \\\n",
       "0   2016-01-01           kıyma    120                 et  33.41   Yurt içi   \n",
       "1   2016-01-01           tavuk    103                 et  11.22   Yurt içi   \n",
       "2   2016-01-01           hindi    160                 et  11.12   Yurt içi   \n",
       "3   2016-01-01      Bakla-kuru    354  sebze ve bakliyat   7.02   Yurt içi   \n",
       "4   2016-01-01      Bakla-taze     72  sebze ve bakliyat  13.14   Yurt içi   \n",
       "5   2016-01-01           Bamya     42  sebze ve bakliyat   5.05   Yurt içi   \n",
       "6   2016-01-01   Barbunya-kuru    346  sebze ve bakliyat   5.97   Yurt içi   \n",
       "7   2016-01-01    Bezelye-taze     47  sebze ve bakliyat  12.19   Yurt içi   \n",
       "8   2016-01-01     Biber-yeşil     25  sebze ve bakliyat  12.15   Yurt içi   \n",
       "9   2016-01-01   Brüksel laha.     47  sebze ve bakliyat  23.53   Yurt içi   \n",
       "10  2016-01-01         Domates     25  sebze ve bakliyat   4.00   Yurt içi   \n",
       "11  2016-01-01         Enginar     63  sebze ve bakliyat  11.20   Yurt içi   \n",
       "12  2016-01-01    Fasulye-kuru    333  sebze ve bakliyat   9.17   Yurt içi   \n",
       "13  2016-01-01    Fasulye-taze     35  sebze ve bakliyat   9.12   Yurt içi   \n",
       "14  2016-01-01           Havuç     42  sebze ve bakliyat   7.91   Yurt içi   \n",
       "15  2016-01-01       Salatalık      8  sebze ve bakliyat   4.03   Yurt içi   \n",
       "16  2016-01-01         Ispanak     25  sebze ve bakliyat  12.21   Yurt içi   \n",
       "17  2016-01-01           Kabak     19  sebze ve bakliyat   8.03   Yurt içi   \n",
       "18  2016-01-01      Karnabahar     25  sebze ve bakliyat   8.03   Yurt içi   \n",
       "19  2016-01-01     Kereviz-baş     38  sebze ve bakliyat   6.11   Yurt içi   \n",
       "20  2016-01-01  Kırmızı-pancar     42  sebze ve bakliyat   6.09   Yurt içi   \n",
       "21  2016-01-01          Lahana     24  sebze ve bakliyat   7.15   Yurt içi   \n",
       "22  2016-01-01          Mantar     16  sebze ve bakliyat  13.24   Yurt içi   \n",
       "23  2016-01-01           Marul     15  sebze ve bakliyat   6.09   Yurt içi   \n",
       "24  2016-01-01   Mercimek-kuru    351  sebze ve bakliyat   5.10   Yurt içi   \n",
       "25  2016-01-01           Nohut    376  sebze ve bakliyat   4.59   Yurt içi   \n",
       "26  2016-01-01          Pancar     42  sebze ve bakliyat   6.74   Yurt içi   \n",
       "27  2016-01-01         Patates     83  sebze ve bakliyat   3.01   Yurt içi   \n",
       "28  2016-01-01        Patlıcan     24  sebze ve bakliyat   7.81   Yurt içi   \n",
       "29  2016-01-01            Pazı     27  sebze ve bakliyat   2.00   Yurt içi   \n",
       "\n",
       "   market sehir  \n",
       "0       M     A  \n",
       "1       M     A  \n",
       "2       M     A  \n",
       "3       M     A  \n",
       "4       M     A  \n",
       "5       M     A  \n",
       "6       M     A  \n",
       "7       M     A  \n",
       "8       M     A  \n",
       "9       M     A  \n",
       "10      M     A  \n",
       "11      M     A  \n",
       "12      M     A  \n",
       "13      M     A  \n",
       "14      M     A  \n",
       "15      M     A  \n",
       "16      M     A  \n",
       "17      M     A  \n",
       "18      M     A  \n",
       "19      M     A  \n",
       "20      M     A  \n",
       "21      M     A  \n",
       "22      M     A  \n",
       "23      M     A  \n",
       "24      M     A  \n",
       "25      M     A  \n",
       "26      M     A  \n",
       "27      M     A  \n",
       "28      M     A  \n",
       "29      M     A  "
      ]
     },
     "execution_count": 5,
     "metadata": {},
     "output_type": "execute_result"
    }
   ],
   "source": [
    "train.head(30)"
   ]
  },
  {
   "cell_type": "code",
   "execution_count": 56,
   "id": "d0d245f2",
   "metadata": {},
   "outputs": [
    {
     "data": {
      "text/plain": [
       "array(['2016-01-01', '2016-02-01', '2016-03-01', '2016-04-01',\n",
       "       '2016-05-01', '2016-06-01', '2016-07-01', '2016-08-01',\n",
       "       '2016-09-01', '2016-10-01', '2016-11-01', '2016-12-01',\n",
       "       '2017-01-01', '2017-02-01', '2017-03-01', '2017-04-01',\n",
       "       '2017-05-01', '2017-06-01', '2017-07-01', '2017-08-01',\n",
       "       '2017-09-01', '2017-10-01', '2017-11-01', '2017-12-01',\n",
       "       '2018-01-01', '2018-02-01', '2018-03-01', '2018-04-01',\n",
       "       '2018-05-01', '2018-06-01', '2018-07-01', '2018-08-01',\n",
       "       '2018-09-01', '2018-10-01', '2018-11-01', '2018-12-01',\n",
       "       '2019-01-01', '2019-02-01', '2019-03-01', '2019-04-01',\n",
       "       '2019-05-01', '2019-06-01', '2019-07-01', '2019-08-01',\n",
       "       '2019-09-01', '2019-10-01', '2019-11-01', '2019-12-01',\n",
       "       '2020-01-01', '2020-02-01', '2020-03-01', '2020-04-01',\n",
       "       '2020-05-01', '2020-06-01', '2020-07-01', '2020-08-01',\n",
       "       '2020-09-01', '2020-10-01', '2020-11-01', '2020-12-01'],\n",
       "      dtype=object)"
      ]
     },
     "execution_count": 56,
     "metadata": {},
     "output_type": "execute_result"
    }
   ],
   "source": [
    "train.tarih.unique()"
   ]
  },
  {
   "cell_type": "code",
   "execution_count": 57,
   "id": "e9297799",
   "metadata": {},
   "outputs": [
    {
     "data": {
      "text/plain": [
       "60"
      ]
     },
     "execution_count": 57,
     "metadata": {},
     "output_type": "execute_result"
    }
   ],
   "source": [
    "train.tarih.nunique()"
   ]
  },
  {
   "cell_type": "code",
   "execution_count": 26,
   "id": "affed8ed",
   "metadata": {},
   "outputs": [
    {
     "data": {
      "text/plain": [
       "array(['kıyma', 'tavuk', 'hindi', 'Bakla-kuru', 'Bakla-taze', 'Bamya',\n",
       "       'Barbunya-kuru', 'Bezelye-taze', 'Biber-yeşil', 'Brüksel laha.',\n",
       "       'Domates', 'Enginar', 'Fasulye-kuru', 'Fasulye-taze', 'Havuç',\n",
       "       'Salatalık', 'Ispanak', 'Kabak', 'Karnabahar', 'Kereviz-baş',\n",
       "       'Kırmızı-pancar', 'Lahana', 'Mantar', 'Marul', 'Mercimek-kuru',\n",
       "       'Nohut', 'Pancar', 'Patates', 'Patlıcan', 'Pazı', 'Pırasa',\n",
       "       'Semizotu', 'Buğday ekmeği', 'Bulgur', 'Erişte', 'Makarna',\n",
       "       'Mısır', 'Mısır unu', 'Nişasta', 'Pilav', 'Pirinç unu', 'Şehriye',\n",
       "       'Tarhana', 'Yulaf unu', 'yumurta', 'beyaz peynir', 'Kaşar peyniri',\n",
       "       'krema', 'yoğurt', 'sucuk', 'salam', 'sosis', 'tam buğday ekmek',\n",
       "       'kaymak', 'bal', 'tereyağ', 'Armut', 'Çilek', 'Elma',\n",
       "       'Erik türleri', 'İncir', 'Karadut', 'Karpuz', 'Kavun', 'Kayısı',\n",
       "       'Kiraz', 'Limon', 'Mandalina', 'Muz', 'Nar', 'Portakal', 'Şeftali',\n",
       "       'Üzüm', 'Vişne', 'fındık', 'fıstık', 'kaju', 'badem', 'ceviz'],\n",
       "      dtype=object)"
      ]
     },
     "execution_count": 26,
     "metadata": {},
     "output_type": "execute_result"
    }
   ],
   "source": [
    "train.urun.unique()"
   ]
  },
  {
   "cell_type": "code",
   "execution_count": 32,
   "id": "f563280d",
   "metadata": {},
   "outputs": [
    {
     "data": {
      "text/plain": [
       "79"
      ]
     },
     "execution_count": 32,
     "metadata": {},
     "output_type": "execute_result"
    }
   ],
   "source": [
    "train.urun.nunique()"
   ]
  },
  {
   "cell_type": "code",
   "execution_count": 63,
   "id": "03042345",
   "metadata": {},
   "outputs": [
    {
     "data": {
      "text/plain": [
       "79"
      ]
     },
     "execution_count": 63,
     "metadata": {},
     "output_type": "execute_result"
    }
   ],
   "source": [
    "len(test.ürün.unique())"
   ]
  },
  {
   "cell_type": "code",
   "execution_count": 37,
   "id": "b8a95b49",
   "metadata": {},
   "outputs": [
    {
     "data": {
      "text/plain": [
       "kıyma            2880\n",
       "salam            2880\n",
       "Çilek            2880\n",
       "Armut            2880\n",
       "tereyağ          2880\n",
       "                 ... \n",
       "Nohut            2880\n",
       "Mercimek-kuru    2880\n",
       "Marul            2880\n",
       "Mantar           2880\n",
       "ceviz            2880\n",
       "Name: urun, Length: 79, dtype: int64"
      ]
     },
     "execution_count": 37,
     "metadata": {},
     "output_type": "execute_result"
    }
   ],
   "source": [
    "train.urun.value_counts()"
   ]
  },
  {
   "cell_type": "code",
   "execution_count": 27,
   "id": "6ea0beda",
   "metadata": {},
   "outputs": [
    {
     "data": {
      "text/plain": [
       "array([120, 103, 160, 354,  72,  42, 346,  47,  25,  63, 333,  35,   8,\n",
       "        19,  38,  24,  16,  15, 351, 376,  83,  27,  52,  32, 247, 350,\n",
       "       390, 353, 368, 329, 402, 100, 150, 170, 200,  90, 125, 250, 400,\n",
       "       375,  57,  39,  60,  80,  93,  28,  54,  79,  17,  36,  77,  41,\n",
       "        49,  74, 110, 115], dtype=int64)"
      ]
     },
     "execution_count": 27,
     "metadata": {},
     "output_type": "execute_result"
    }
   ],
   "source": [
    "train.besin.unique()"
   ]
  },
  {
   "cell_type": "code",
   "execution_count": 33,
   "id": "58c4ee3b",
   "metadata": {},
   "outputs": [
    {
     "data": {
      "text/plain": [
       "56"
      ]
     },
     "execution_count": 33,
     "metadata": {},
     "output_type": "execute_result"
    }
   ],
   "source": [
    "train.besin.nunique()"
   ]
  },
  {
   "cell_type": "code",
   "execution_count": 38,
   "id": "e6830e19",
   "metadata": {},
   "outputs": [
    {
     "data": {
      "text/plain": [
       "42     11520\n",
       "25     11520\n",
       "120     8640\n",
       "353     8640\n",
       "24      8640\n",
       "390     8640\n",
       "57      5760\n",
       "52      5760\n",
       "350     5760\n",
       "351     5760\n",
       "47      5760\n",
       "125     5760\n",
       "90      5760\n",
       "100     5760\n",
       "110     5760\n",
       "39      2880\n",
       "400     2880\n",
       "375     2880\n",
       "250     2880\n",
       "93      2880\n",
       "60      2880\n",
       "80      2880\n",
       "170     2880\n",
       "28      2880\n",
       "54      2880\n",
       "79      2880\n",
       "17      2880\n",
       "36      2880\n",
       "77      2880\n",
       "41      2880\n",
       "49      2880\n",
       "74      2880\n",
       "200     2880\n",
       "368     2880\n",
       "150     2880\n",
       "402     2880\n",
       "160     2880\n",
       "354     2880\n",
       "72      2880\n",
       "346     2880\n",
       "63      2880\n",
       "333     2880\n",
       "35      2880\n",
       "8       2880\n",
       "19      2880\n",
       "38      2880\n",
       "16      2880\n",
       "15      2880\n",
       "376     2880\n",
       "83      2880\n",
       "27      2880\n",
       "32      2880\n",
       "247     2880\n",
       "103     2880\n",
       "329     2880\n",
       "115     2880\n",
       "Name: besin, dtype: int64"
      ]
     },
     "execution_count": 38,
     "metadata": {},
     "output_type": "execute_result"
    }
   ],
   "source": [
    "train.besin.value_counts()"
   ]
  },
  {
   "cell_type": "code",
   "execution_count": 28,
   "id": "41d5c017",
   "metadata": {},
   "outputs": [
    {
     "data": {
      "text/plain": [
       "array(['et', 'sebze ve bakliyat', 'tahıl ve ürünleri',\n",
       "       'süt ürünleri ve kahvaltılık', 'meyve', 'kuruyemiş'], dtype=object)"
      ]
     },
     "execution_count": 28,
     "metadata": {},
     "output_type": "execute_result"
    }
   ],
   "source": [
    "train.kategori.unique()"
   ]
  },
  {
   "cell_type": "code",
   "execution_count": 34,
   "id": "27097488",
   "metadata": {},
   "outputs": [
    {
     "data": {
      "text/plain": [
       "6"
      ]
     },
     "execution_count": 34,
     "metadata": {},
     "output_type": "execute_result"
    }
   ],
   "source": [
    "train.kategori.nunique()"
   ]
  },
  {
   "cell_type": "code",
   "execution_count": 39,
   "id": "2c13d0bb",
   "metadata": {},
   "outputs": [
    {
     "data": {
      "text/plain": [
       "sebze ve bakliyat              83520\n",
       "meyve                          51840\n",
       "tahıl ve ürünleri              34560\n",
       "süt ürünleri ve kahvaltılık    34560\n",
       "kuruyemiş                      14400\n",
       "et                              8640\n",
       "Name: kategori, dtype: int64"
      ]
     },
     "execution_count": 39,
     "metadata": {},
     "output_type": "execute_result"
    }
   ],
   "source": [
    "train.kategori.unique()"
   ]
  },
  {
   "cell_type": "code",
   "execution_count": 95,
   "id": "8de306bc",
   "metadata": {},
   "outputs": [
    {
     "data": {
      "text/plain": [
       "array(['Yurt içi', 'Yurt dışı'], dtype=object)"
      ]
     },
     "execution_count": 95,
     "metadata": {},
     "output_type": "execute_result"
    }
   ],
   "source": [
    "train.uretimyeri.unique()"
   ]
  },
  {
   "cell_type": "code",
   "execution_count": 41,
   "id": "22e547e9",
   "metadata": {},
   "outputs": [
    {
     "data": {
      "text/plain": [
       "Yurt içi     113760\n",
       "Yurt dışı    113760\n",
       "Name: uretimyeri, dtype: int64"
      ]
     },
     "execution_count": 41,
     "metadata": {},
     "output_type": "execute_result"
    }
   ],
   "source": [
    "train.uretimyeri.value_counts()"
   ]
  },
  {
   "cell_type": "code",
   "execution_count": 30,
   "id": "d33982cb",
   "metadata": {},
   "outputs": [
    {
     "data": {
      "text/plain": [
       "array(['M', 'C', 'B'], dtype=object)"
      ]
     },
     "execution_count": 30,
     "metadata": {},
     "output_type": "execute_result"
    }
   ],
   "source": [
    "train.market.unique()"
   ]
  },
  {
   "cell_type": "code",
   "execution_count": 42,
   "id": "f4567f30",
   "metadata": {},
   "outputs": [
    {
     "data": {
      "text/plain": [
       "M    75840\n",
       "C    75840\n",
       "B    75840\n",
       "Name: market, dtype: int64"
      ]
     },
     "execution_count": 42,
     "metadata": {},
     "output_type": "execute_result"
    }
   ],
   "source": [
    "train.market.value_counts()"
   ]
  },
  {
   "cell_type": "code",
   "execution_count": 31,
   "id": "eaf89f60",
   "metadata": {},
   "outputs": [
    {
     "data": {
      "text/plain": [
       "array(['A', 'B', 'C', 'D', 'E', 'F', 'G', 'H'], dtype=object)"
      ]
     },
     "execution_count": 31,
     "metadata": {},
     "output_type": "execute_result"
    }
   ],
   "source": [
    "train.sehir.unique()"
   ]
  },
  {
   "cell_type": "code",
   "execution_count": 43,
   "id": "ac42e2b1",
   "metadata": {},
   "outputs": [
    {
     "data": {
      "text/plain": [
       "A    28440\n",
       "B    28440\n",
       "C    28440\n",
       "D    28440\n",
       "E    28440\n",
       "F    28440\n",
       "G    28440\n",
       "H    28440\n",
       "Name: sehir, dtype: int64"
      ]
     },
     "execution_count": 43,
     "metadata": {},
     "output_type": "execute_result"
    }
   ],
   "source": [
    "train.sehir.value_counts()"
   ]
  },
  {
   "cell_type": "code",
   "execution_count": 35,
   "id": "a1f88fbe",
   "metadata": {},
   "outputs": [
    {
     "data": {
      "text/html": [
       "<div>\n",
       "<style scoped>\n",
       "    .dataframe tbody tr th:only-of-type {\n",
       "        vertical-align: middle;\n",
       "    }\n",
       "\n",
       "    .dataframe tbody tr th {\n",
       "        vertical-align: top;\n",
       "    }\n",
       "\n",
       "    .dataframe thead th {\n",
       "        text-align: right;\n",
       "    }\n",
       "</style>\n",
       "<table border=\"1\" class=\"dataframe\">\n",
       "  <thead>\n",
       "    <tr style=\"text-align: right;\">\n",
       "      <th></th>\n",
       "      <th>besin</th>\n",
       "      <th>fiyat</th>\n",
       "    </tr>\n",
       "  </thead>\n",
       "  <tbody>\n",
       "    <tr>\n",
       "      <th>count</th>\n",
       "      <td>227520.000000</td>\n",
       "      <td>227520.000000</td>\n",
       "    </tr>\n",
       "    <tr>\n",
       "      <th>mean</th>\n",
       "      <td>143.113924</td>\n",
       "      <td>16.348622</td>\n",
       "    </tr>\n",
       "    <tr>\n",
       "      <th>std</th>\n",
       "      <td>133.218871</td>\n",
       "      <td>13.260935</td>\n",
       "    </tr>\n",
       "    <tr>\n",
       "      <th>min</th>\n",
       "      <td>8.000000</td>\n",
       "      <td>0.730000</td>\n",
       "    </tr>\n",
       "    <tr>\n",
       "      <th>25%</th>\n",
       "      <td>41.000000</td>\n",
       "      <td>7.330000</td>\n",
       "    </tr>\n",
       "    <tr>\n",
       "      <th>50%</th>\n",
       "      <td>83.000000</td>\n",
       "      <td>12.600000</td>\n",
       "    </tr>\n",
       "    <tr>\n",
       "      <th>75%</th>\n",
       "      <td>250.000000</td>\n",
       "      <td>20.900000</td>\n",
       "    </tr>\n",
       "    <tr>\n",
       "      <th>max</th>\n",
       "      <td>402.000000</td>\n",
       "      <td>141.330000</td>\n",
       "    </tr>\n",
       "  </tbody>\n",
       "</table>\n",
       "</div>"
      ],
      "text/plain": [
       "               besin          fiyat\n",
       "count  227520.000000  227520.000000\n",
       "mean      143.113924      16.348622\n",
       "std       133.218871      13.260935\n",
       "min         8.000000       0.730000\n",
       "25%        41.000000       7.330000\n",
       "50%        83.000000      12.600000\n",
       "75%       250.000000      20.900000\n",
       "max       402.000000     141.330000"
      ]
     },
     "execution_count": 35,
     "metadata": {},
     "output_type": "execute_result"
    }
   ],
   "source": [
    "train.describe()"
   ]
  },
  {
   "cell_type": "code",
   "execution_count": 254,
   "id": "e932bc71",
   "metadata": {},
   "outputs": [
    {
     "data": {
      "text/plain": [
       "besin              0.017858\n",
       "fiyat              1.000000\n",
       "urun_Armut        -0.074353\n",
       "urun_Bakla-kuru   -0.024674\n",
       "urun_Bakla-taze    0.076012\n",
       "                     ...   \n",
       "sehir_D           -0.001031\n",
       "sehir_E           -0.001160\n",
       "sehir_F           -0.000298\n",
       "sehir_G           -0.001043\n",
       "sehir_H           -0.000195\n",
       "Name: fiyat, Length: 100, dtype: float64"
      ]
     },
     "execution_count": 254,
     "metadata": {},
     "output_type": "execute_result"
    }
   ],
   "source": [
    "train.corr()[\"fiyat\"]"
   ]
  },
  {
   "cell_type": "code",
   "execution_count": 46,
   "id": "c9307f14",
   "metadata": {},
   "outputs": [
    {
     "data": {
      "text/plain": [
       "tarih         0\n",
       "urun          0\n",
       "besin         0\n",
       "kategori      0\n",
       "fiyat         0\n",
       "uretimyeri    0\n",
       "market        0\n",
       "sehir         0\n",
       "dtype: int64"
      ]
     },
     "execution_count": 46,
     "metadata": {},
     "output_type": "execute_result"
    }
   ],
   "source": [
    "train.isnull().sum()"
   ]
  },
  {
   "cell_type": "code",
   "execution_count": 58,
   "id": "ee8bf9d9",
   "metadata": {},
   "outputs": [
    {
     "data": {
      "text/html": [
       "<div>\n",
       "<style scoped>\n",
       "    .dataframe tbody tr th:only-of-type {\n",
       "        vertical-align: middle;\n",
       "    }\n",
       "\n",
       "    .dataframe tbody tr th {\n",
       "        vertical-align: top;\n",
       "    }\n",
       "\n",
       "    .dataframe thead th {\n",
       "        text-align: right;\n",
       "    }\n",
       "</style>\n",
       "<table border=\"1\" class=\"dataframe\">\n",
       "  <thead>\n",
       "    <tr style=\"text-align: right;\">\n",
       "      <th></th>\n",
       "      <th>tarih</th>\n",
       "      <th>urun</th>\n",
       "      <th>besin</th>\n",
       "      <th>kategori</th>\n",
       "      <th>fiyat</th>\n",
       "      <th>uretimyeri</th>\n",
       "      <th>market</th>\n",
       "      <th>sehir</th>\n",
       "    </tr>\n",
       "  </thead>\n",
       "  <tbody>\n",
       "    <tr>\n",
       "      <th>0</th>\n",
       "      <td>2016-01-01</td>\n",
       "      <td>kıyma</td>\n",
       "      <td>120</td>\n",
       "      <td>et</td>\n",
       "      <td>33.41</td>\n",
       "      <td>Yurt içi</td>\n",
       "      <td>M</td>\n",
       "      <td>A</td>\n",
       "    </tr>\n",
       "    <tr>\n",
       "      <th>1</th>\n",
       "      <td>2016-01-01</td>\n",
       "      <td>tavuk</td>\n",
       "      <td>103</td>\n",
       "      <td>et</td>\n",
       "      <td>11.22</td>\n",
       "      <td>Yurt içi</td>\n",
       "      <td>M</td>\n",
       "      <td>A</td>\n",
       "    </tr>\n",
       "    <tr>\n",
       "      <th>2</th>\n",
       "      <td>2016-01-01</td>\n",
       "      <td>hindi</td>\n",
       "      <td>160</td>\n",
       "      <td>et</td>\n",
       "      <td>11.12</td>\n",
       "      <td>Yurt içi</td>\n",
       "      <td>M</td>\n",
       "      <td>A</td>\n",
       "    </tr>\n",
       "    <tr>\n",
       "      <th>3</th>\n",
       "      <td>2016-01-01</td>\n",
       "      <td>Bakla-kuru</td>\n",
       "      <td>354</td>\n",
       "      <td>sebze ve bakliyat</td>\n",
       "      <td>7.02</td>\n",
       "      <td>Yurt içi</td>\n",
       "      <td>M</td>\n",
       "      <td>A</td>\n",
       "    </tr>\n",
       "    <tr>\n",
       "      <th>4</th>\n",
       "      <td>2016-01-01</td>\n",
       "      <td>Bakla-taze</td>\n",
       "      <td>72</td>\n",
       "      <td>sebze ve bakliyat</td>\n",
       "      <td>13.14</td>\n",
       "      <td>Yurt içi</td>\n",
       "      <td>M</td>\n",
       "      <td>A</td>\n",
       "    </tr>\n",
       "  </tbody>\n",
       "</table>\n",
       "</div>"
      ],
      "text/plain": [
       "        tarih        urun  besin           kategori  fiyat uretimyeri market  \\\n",
       "0  2016-01-01       kıyma    120                 et  33.41   Yurt içi      M   \n",
       "1  2016-01-01       tavuk    103                 et  11.22   Yurt içi      M   \n",
       "2  2016-01-01       hindi    160                 et  11.12   Yurt içi      M   \n",
       "3  2016-01-01  Bakla-kuru    354  sebze ve bakliyat   7.02   Yurt içi      M   \n",
       "4  2016-01-01  Bakla-taze     72  sebze ve bakliyat  13.14   Yurt içi      M   \n",
       "\n",
       "  sehir  \n",
       "0     A  \n",
       "1     A  \n",
       "2     A  \n",
       "3     A  \n",
       "4     A  "
      ]
     },
     "execution_count": 58,
     "metadata": {},
     "output_type": "execute_result"
    }
   ],
   "source": [
    "train.head()"
   ]
  },
  {
   "cell_type": "code",
   "execution_count": 77,
   "id": "d99e6c86",
   "metadata": {},
   "outputs": [],
   "source": [
    "kiyma2=train.urun.isin([\"kıyma\"])\n",
    "kiyma2=train[kiyma2]"
   ]
  },
  {
   "cell_type": "code",
   "execution_count": 79,
   "id": "c7b6abcc",
   "metadata": {},
   "outputs": [
    {
     "data": {
      "text/html": [
       "<div>\n",
       "<style scoped>\n",
       "    .dataframe tbody tr th:only-of-type {\n",
       "        vertical-align: middle;\n",
       "    }\n",
       "\n",
       "    .dataframe tbody tr th {\n",
       "        vertical-align: top;\n",
       "    }\n",
       "\n",
       "    .dataframe thead th {\n",
       "        text-align: right;\n",
       "    }\n",
       "</style>\n",
       "<table border=\"1\" class=\"dataframe\">\n",
       "  <thead>\n",
       "    <tr style=\"text-align: right;\">\n",
       "      <th></th>\n",
       "      <th>tarih</th>\n",
       "      <th>urun</th>\n",
       "      <th>besin</th>\n",
       "      <th>kategori</th>\n",
       "      <th>fiyat</th>\n",
       "      <th>uretimyeri</th>\n",
       "      <th>market</th>\n",
       "      <th>sehir</th>\n",
       "    </tr>\n",
       "  </thead>\n",
       "  <tbody>\n",
       "    <tr>\n",
       "      <th>0</th>\n",
       "      <td>2016-01-01</td>\n",
       "      <td>kıyma</td>\n",
       "      <td>120</td>\n",
       "      <td>et</td>\n",
       "      <td>33.41</td>\n",
       "      <td>Yurt içi</td>\n",
       "      <td>M</td>\n",
       "      <td>A</td>\n",
       "    </tr>\n",
       "    <tr>\n",
       "      <th>79</th>\n",
       "      <td>2016-01-01</td>\n",
       "      <td>kıyma</td>\n",
       "      <td>120</td>\n",
       "      <td>et</td>\n",
       "      <td>33.71</td>\n",
       "      <td>Yurt dışı</td>\n",
       "      <td>M</td>\n",
       "      <td>A</td>\n",
       "    </tr>\n",
       "    <tr>\n",
       "      <th>158</th>\n",
       "      <td>2016-01-01</td>\n",
       "      <td>kıyma</td>\n",
       "      <td>120</td>\n",
       "      <td>et</td>\n",
       "      <td>33.95</td>\n",
       "      <td>Yurt içi</td>\n",
       "      <td>C</td>\n",
       "      <td>A</td>\n",
       "    </tr>\n",
       "    <tr>\n",
       "      <th>237</th>\n",
       "      <td>2016-01-01</td>\n",
       "      <td>kıyma</td>\n",
       "      <td>120</td>\n",
       "      <td>et</td>\n",
       "      <td>32.88</td>\n",
       "      <td>Yurt dışı</td>\n",
       "      <td>C</td>\n",
       "      <td>A</td>\n",
       "    </tr>\n",
       "    <tr>\n",
       "      <th>316</th>\n",
       "      <td>2016-01-01</td>\n",
       "      <td>kıyma</td>\n",
       "      <td>120</td>\n",
       "      <td>et</td>\n",
       "      <td>33.53</td>\n",
       "      <td>Yurt içi</td>\n",
       "      <td>B</td>\n",
       "      <td>A</td>\n",
       "    </tr>\n",
       "    <tr>\n",
       "      <th>...</th>\n",
       "      <td>...</td>\n",
       "      <td>...</td>\n",
       "      <td>...</td>\n",
       "      <td>...</td>\n",
       "      <td>...</td>\n",
       "      <td>...</td>\n",
       "      <td>...</td>\n",
       "      <td>...</td>\n",
       "    </tr>\n",
       "    <tr>\n",
       "      <th>226730</th>\n",
       "      <td>2020-12-01</td>\n",
       "      <td>kıyma</td>\n",
       "      <td>120</td>\n",
       "      <td>et</td>\n",
       "      <td>112.47</td>\n",
       "      <td>Yurt içi</td>\n",
       "      <td>C</td>\n",
       "      <td>G</td>\n",
       "    </tr>\n",
       "    <tr>\n",
       "      <th>226809</th>\n",
       "      <td>2020-12-01</td>\n",
       "      <td>kıyma</td>\n",
       "      <td>120</td>\n",
       "      <td>et</td>\n",
       "      <td>117.16</td>\n",
       "      <td>Yurt dışı</td>\n",
       "      <td>C</td>\n",
       "      <td>G</td>\n",
       "    </tr>\n",
       "    <tr>\n",
       "      <th>226888</th>\n",
       "      <td>2020-12-01</td>\n",
       "      <td>kıyma</td>\n",
       "      <td>120</td>\n",
       "      <td>et</td>\n",
       "      <td>104.47</td>\n",
       "      <td>Yurt içi</td>\n",
       "      <td>B</td>\n",
       "      <td>G</td>\n",
       "    </tr>\n",
       "    <tr>\n",
       "      <th>226967</th>\n",
       "      <td>2020-12-01</td>\n",
       "      <td>kıyma</td>\n",
       "      <td>120</td>\n",
       "      <td>et</td>\n",
       "      <td>115.13</td>\n",
       "      <td>Yurt dışı</td>\n",
       "      <td>B</td>\n",
       "      <td>G</td>\n",
       "    </tr>\n",
       "    <tr>\n",
       "      <th>227046</th>\n",
       "      <td>2020-12-01</td>\n",
       "      <td>kıyma</td>\n",
       "      <td>120</td>\n",
       "      <td>et</td>\n",
       "      <td>116.82</td>\n",
       "      <td>Yurt içi</td>\n",
       "      <td>M</td>\n",
       "      <td>H</td>\n",
       "    </tr>\n",
       "  </tbody>\n",
       "</table>\n",
       "<p>2875 rows × 8 columns</p>\n",
       "</div>"
      ],
      "text/plain": [
       "             tarih   urun  besin kategori   fiyat uretimyeri market sehir\n",
       "0       2016-01-01  kıyma    120       et   33.41   Yurt içi      M     A\n",
       "79      2016-01-01  kıyma    120       et   33.71  Yurt dışı      M     A\n",
       "158     2016-01-01  kıyma    120       et   33.95   Yurt içi      C     A\n",
       "237     2016-01-01  kıyma    120       et   32.88  Yurt dışı      C     A\n",
       "316     2016-01-01  kıyma    120       et   33.53   Yurt içi      B     A\n",
       "...            ...    ...    ...      ...     ...        ...    ...   ...\n",
       "226730  2020-12-01  kıyma    120       et  112.47   Yurt içi      C     G\n",
       "226809  2020-12-01  kıyma    120       et  117.16  Yurt dışı      C     G\n",
       "226888  2020-12-01  kıyma    120       et  104.47   Yurt içi      B     G\n",
       "226967  2020-12-01  kıyma    120       et  115.13  Yurt dışı      B     G\n",
       "227046  2020-12-01  kıyma    120       et  116.82   Yurt içi      M     H\n",
       "\n",
       "[2875 rows x 8 columns]"
      ]
     },
     "execution_count": 79,
     "metadata": {},
     "output_type": "execute_result"
    }
   ],
   "source": [
    "kiyma2.head(-5)"
   ]
  },
  {
   "cell_type": "code",
   "execution_count": 82,
   "id": "322449ea",
   "metadata": {},
   "outputs": [
    {
     "data": {
      "text/plain": [
       "array([120], dtype=int64)"
      ]
     },
     "execution_count": 82,
     "metadata": {},
     "output_type": "execute_result"
    }
   ],
   "source": [
    "kiyma2.besin.unique()"
   ]
  },
  {
   "cell_type": "code",
   "execution_count": 6,
   "id": "3e455e38",
   "metadata": {},
   "outputs": [],
   "source": [
    "one_hot = pd.get_dummies(train[['urun','kategori','uretimyeri','market','sehir']])\n",
    "train = train.drop(['urun','kategori','uretimyeri','market','sehir'],axis = 1)\n",
    "train = train.join(one_hot)"
   ]
  },
  {
   "cell_type": "code",
   "execution_count": 224,
   "id": "f31d1567",
   "metadata": {},
   "outputs": [],
   "source": [
    "one_hot = pd.get_dummies(train[['kategori']])\n",
    "train = train.drop(['urun','kategori','uretimyeri','market','sehir','besin'],axis = 1)\n",
    "train = train.join(one_hot)"
   ]
  },
  {
   "cell_type": "code",
   "execution_count": 7,
   "id": "42561c61",
   "metadata": {},
   "outputs": [],
   "source": [
    "train = train.drop(['besin'],axis = 1)"
   ]
  },
  {
   "cell_type": "code",
   "execution_count": 8,
   "id": "80591282",
   "metadata": {},
   "outputs": [
    {
     "data": {
      "text/html": [
       "<div>\n",
       "<style scoped>\n",
       "    .dataframe tbody tr th:only-of-type {\n",
       "        vertical-align: middle;\n",
       "    }\n",
       "\n",
       "    .dataframe tbody tr th {\n",
       "        vertical-align: top;\n",
       "    }\n",
       "\n",
       "    .dataframe thead th {\n",
       "        text-align: right;\n",
       "    }\n",
       "</style>\n",
       "<table border=\"1\" class=\"dataframe\">\n",
       "  <thead>\n",
       "    <tr style=\"text-align: right;\">\n",
       "      <th></th>\n",
       "      <th>tarih</th>\n",
       "      <th>fiyat</th>\n",
       "      <th>urun_Armut</th>\n",
       "      <th>urun_Bakla-kuru</th>\n",
       "      <th>urun_Bakla-taze</th>\n",
       "      <th>urun_Bamya</th>\n",
       "      <th>urun_Barbunya-kuru</th>\n",
       "      <th>urun_Bezelye-taze</th>\n",
       "      <th>urun_Biber-yeşil</th>\n",
       "      <th>urun_Brüksel laha.</th>\n",
       "      <th>...</th>\n",
       "      <th>market_C</th>\n",
       "      <th>market_M</th>\n",
       "      <th>sehir_A</th>\n",
       "      <th>sehir_B</th>\n",
       "      <th>sehir_C</th>\n",
       "      <th>sehir_D</th>\n",
       "      <th>sehir_E</th>\n",
       "      <th>sehir_F</th>\n",
       "      <th>sehir_G</th>\n",
       "      <th>sehir_H</th>\n",
       "    </tr>\n",
       "  </thead>\n",
       "  <tbody>\n",
       "    <tr>\n",
       "      <th>0</th>\n",
       "      <td>2016-01-01</td>\n",
       "      <td>33.41</td>\n",
       "      <td>0</td>\n",
       "      <td>0</td>\n",
       "      <td>0</td>\n",
       "      <td>0</td>\n",
       "      <td>0</td>\n",
       "      <td>0</td>\n",
       "      <td>0</td>\n",
       "      <td>0</td>\n",
       "      <td>...</td>\n",
       "      <td>0</td>\n",
       "      <td>1</td>\n",
       "      <td>1</td>\n",
       "      <td>0</td>\n",
       "      <td>0</td>\n",
       "      <td>0</td>\n",
       "      <td>0</td>\n",
       "      <td>0</td>\n",
       "      <td>0</td>\n",
       "      <td>0</td>\n",
       "    </tr>\n",
       "    <tr>\n",
       "      <th>1</th>\n",
       "      <td>2016-01-01</td>\n",
       "      <td>11.22</td>\n",
       "      <td>0</td>\n",
       "      <td>0</td>\n",
       "      <td>0</td>\n",
       "      <td>0</td>\n",
       "      <td>0</td>\n",
       "      <td>0</td>\n",
       "      <td>0</td>\n",
       "      <td>0</td>\n",
       "      <td>...</td>\n",
       "      <td>0</td>\n",
       "      <td>1</td>\n",
       "      <td>1</td>\n",
       "      <td>0</td>\n",
       "      <td>0</td>\n",
       "      <td>0</td>\n",
       "      <td>0</td>\n",
       "      <td>0</td>\n",
       "      <td>0</td>\n",
       "      <td>0</td>\n",
       "    </tr>\n",
       "    <tr>\n",
       "      <th>2</th>\n",
       "      <td>2016-01-01</td>\n",
       "      <td>11.12</td>\n",
       "      <td>0</td>\n",
       "      <td>0</td>\n",
       "      <td>0</td>\n",
       "      <td>0</td>\n",
       "      <td>0</td>\n",
       "      <td>0</td>\n",
       "      <td>0</td>\n",
       "      <td>0</td>\n",
       "      <td>...</td>\n",
       "      <td>0</td>\n",
       "      <td>1</td>\n",
       "      <td>1</td>\n",
       "      <td>0</td>\n",
       "      <td>0</td>\n",
       "      <td>0</td>\n",
       "      <td>0</td>\n",
       "      <td>0</td>\n",
       "      <td>0</td>\n",
       "      <td>0</td>\n",
       "    </tr>\n",
       "    <tr>\n",
       "      <th>3</th>\n",
       "      <td>2016-01-01</td>\n",
       "      <td>7.02</td>\n",
       "      <td>0</td>\n",
       "      <td>1</td>\n",
       "      <td>0</td>\n",
       "      <td>0</td>\n",
       "      <td>0</td>\n",
       "      <td>0</td>\n",
       "      <td>0</td>\n",
       "      <td>0</td>\n",
       "      <td>...</td>\n",
       "      <td>0</td>\n",
       "      <td>1</td>\n",
       "      <td>1</td>\n",
       "      <td>0</td>\n",
       "      <td>0</td>\n",
       "      <td>0</td>\n",
       "      <td>0</td>\n",
       "      <td>0</td>\n",
       "      <td>0</td>\n",
       "      <td>0</td>\n",
       "    </tr>\n",
       "    <tr>\n",
       "      <th>4</th>\n",
       "      <td>2016-01-01</td>\n",
       "      <td>13.14</td>\n",
       "      <td>0</td>\n",
       "      <td>0</td>\n",
       "      <td>1</td>\n",
       "      <td>0</td>\n",
       "      <td>0</td>\n",
       "      <td>0</td>\n",
       "      <td>0</td>\n",
       "      <td>0</td>\n",
       "      <td>...</td>\n",
       "      <td>0</td>\n",
       "      <td>1</td>\n",
       "      <td>1</td>\n",
       "      <td>0</td>\n",
       "      <td>0</td>\n",
       "      <td>0</td>\n",
       "      <td>0</td>\n",
       "      <td>0</td>\n",
       "      <td>0</td>\n",
       "      <td>0</td>\n",
       "    </tr>\n",
       "  </tbody>\n",
       "</table>\n",
       "<p>5 rows × 100 columns</p>\n",
       "</div>"
      ],
      "text/plain": [
       "        tarih  fiyat  urun_Armut  urun_Bakla-kuru  urun_Bakla-taze  \\\n",
       "0  2016-01-01  33.41           0                0                0   \n",
       "1  2016-01-01  11.22           0                0                0   \n",
       "2  2016-01-01  11.12           0                0                0   \n",
       "3  2016-01-01   7.02           0                1                0   \n",
       "4  2016-01-01  13.14           0                0                1   \n",
       "\n",
       "   urun_Bamya  urun_Barbunya-kuru  urun_Bezelye-taze  urun_Biber-yeşil  \\\n",
       "0           0                   0                  0                 0   \n",
       "1           0                   0                  0                 0   \n",
       "2           0                   0                  0                 0   \n",
       "3           0                   0                  0                 0   \n",
       "4           0                   0                  0                 0   \n",
       "\n",
       "   urun_Brüksel laha.  ...  market_C  market_M  sehir_A  sehir_B  sehir_C  \\\n",
       "0                   0  ...         0         1        1        0        0   \n",
       "1                   0  ...         0         1        1        0        0   \n",
       "2                   0  ...         0         1        1        0        0   \n",
       "3                   0  ...         0         1        1        0        0   \n",
       "4                   0  ...         0         1        1        0        0   \n",
       "\n",
       "   sehir_D  sehir_E  sehir_F  sehir_G  sehir_H  \n",
       "0        0        0        0        0        0  \n",
       "1        0        0        0        0        0  \n",
       "2        0        0        0        0        0  \n",
       "3        0        0        0        0        0  \n",
       "4        0        0        0        0        0  \n",
       "\n",
       "[5 rows x 100 columns]"
      ]
     },
     "execution_count": 8,
     "metadata": {},
     "output_type": "execute_result"
    }
   ],
   "source": [
    "train.head()"
   ]
  },
  {
   "cell_type": "code",
   "execution_count": 9,
   "id": "0db0fb34",
   "metadata": {},
   "outputs": [],
   "source": [
    "train[\"tarih\"]=train[\"tarih\"].str.replace(\"-\",\"\").astype(float)"
   ]
  },
  {
   "cell_type": "code",
   "execution_count": null,
   "id": "017ee97f",
   "metadata": {},
   "outputs": [],
   "source": []
  },
  {
   "cell_type": "code",
   "execution_count": 10,
   "id": "f9f6d7b2",
   "metadata": {},
   "outputs": [],
   "source": [
    "y=train.iloc[:,1:2]\n",
    "x = train.drop(['fiyat'],axis = 1)"
   ]
  },
  {
   "cell_type": "code",
   "execution_count": 11,
   "id": "8bfbc18b",
   "metadata": {},
   "outputs": [
    {
     "data": {
      "text/html": [
       "<div>\n",
       "<style scoped>\n",
       "    .dataframe tbody tr th:only-of-type {\n",
       "        vertical-align: middle;\n",
       "    }\n",
       "\n",
       "    .dataframe tbody tr th {\n",
       "        vertical-align: top;\n",
       "    }\n",
       "\n",
       "    .dataframe thead th {\n",
       "        text-align: right;\n",
       "    }\n",
       "</style>\n",
       "<table border=\"1\" class=\"dataframe\">\n",
       "  <thead>\n",
       "    <tr style=\"text-align: right;\">\n",
       "      <th></th>\n",
       "      <th>fiyat</th>\n",
       "    </tr>\n",
       "  </thead>\n",
       "  <tbody>\n",
       "    <tr>\n",
       "      <th>0</th>\n",
       "      <td>33.41</td>\n",
       "    </tr>\n",
       "    <tr>\n",
       "      <th>1</th>\n",
       "      <td>11.22</td>\n",
       "    </tr>\n",
       "    <tr>\n",
       "      <th>2</th>\n",
       "      <td>11.12</td>\n",
       "    </tr>\n",
       "    <tr>\n",
       "      <th>3</th>\n",
       "      <td>7.02</td>\n",
       "    </tr>\n",
       "    <tr>\n",
       "      <th>4</th>\n",
       "      <td>13.14</td>\n",
       "    </tr>\n",
       "  </tbody>\n",
       "</table>\n",
       "</div>"
      ],
      "text/plain": [
       "   fiyat\n",
       "0  33.41\n",
       "1  11.22\n",
       "2  11.12\n",
       "3   7.02\n",
       "4  13.14"
      ]
     },
     "execution_count": 11,
     "metadata": {},
     "output_type": "execute_result"
    }
   ],
   "source": [
    "y.head()"
   ]
  },
  {
   "cell_type": "code",
   "execution_count": 12,
   "id": "bb5f8d3d",
   "metadata": {},
   "outputs": [
    {
     "data": {
      "text/html": [
       "<div>\n",
       "<style scoped>\n",
       "    .dataframe tbody tr th:only-of-type {\n",
       "        vertical-align: middle;\n",
       "    }\n",
       "\n",
       "    .dataframe tbody tr th {\n",
       "        vertical-align: top;\n",
       "    }\n",
       "\n",
       "    .dataframe thead th {\n",
       "        text-align: right;\n",
       "    }\n",
       "</style>\n",
       "<table border=\"1\" class=\"dataframe\">\n",
       "  <thead>\n",
       "    <tr style=\"text-align: right;\">\n",
       "      <th></th>\n",
       "      <th>tarih</th>\n",
       "      <th>urun_Armut</th>\n",
       "      <th>urun_Bakla-kuru</th>\n",
       "      <th>urun_Bakla-taze</th>\n",
       "      <th>urun_Bamya</th>\n",
       "      <th>urun_Barbunya-kuru</th>\n",
       "      <th>urun_Bezelye-taze</th>\n",
       "      <th>urun_Biber-yeşil</th>\n",
       "      <th>urun_Brüksel laha.</th>\n",
       "      <th>urun_Bulgur</th>\n",
       "      <th>...</th>\n",
       "      <th>market_C</th>\n",
       "      <th>market_M</th>\n",
       "      <th>sehir_A</th>\n",
       "      <th>sehir_B</th>\n",
       "      <th>sehir_C</th>\n",
       "      <th>sehir_D</th>\n",
       "      <th>sehir_E</th>\n",
       "      <th>sehir_F</th>\n",
       "      <th>sehir_G</th>\n",
       "      <th>sehir_H</th>\n",
       "    </tr>\n",
       "  </thead>\n",
       "  <tbody>\n",
       "    <tr>\n",
       "      <th>0</th>\n",
       "      <td>20160101.0</td>\n",
       "      <td>0</td>\n",
       "      <td>0</td>\n",
       "      <td>0</td>\n",
       "      <td>0</td>\n",
       "      <td>0</td>\n",
       "      <td>0</td>\n",
       "      <td>0</td>\n",
       "      <td>0</td>\n",
       "      <td>0</td>\n",
       "      <td>...</td>\n",
       "      <td>0</td>\n",
       "      <td>1</td>\n",
       "      <td>1</td>\n",
       "      <td>0</td>\n",
       "      <td>0</td>\n",
       "      <td>0</td>\n",
       "      <td>0</td>\n",
       "      <td>0</td>\n",
       "      <td>0</td>\n",
       "      <td>0</td>\n",
       "    </tr>\n",
       "    <tr>\n",
       "      <th>1</th>\n",
       "      <td>20160101.0</td>\n",
       "      <td>0</td>\n",
       "      <td>0</td>\n",
       "      <td>0</td>\n",
       "      <td>0</td>\n",
       "      <td>0</td>\n",
       "      <td>0</td>\n",
       "      <td>0</td>\n",
       "      <td>0</td>\n",
       "      <td>0</td>\n",
       "      <td>...</td>\n",
       "      <td>0</td>\n",
       "      <td>1</td>\n",
       "      <td>1</td>\n",
       "      <td>0</td>\n",
       "      <td>0</td>\n",
       "      <td>0</td>\n",
       "      <td>0</td>\n",
       "      <td>0</td>\n",
       "      <td>0</td>\n",
       "      <td>0</td>\n",
       "    </tr>\n",
       "    <tr>\n",
       "      <th>2</th>\n",
       "      <td>20160101.0</td>\n",
       "      <td>0</td>\n",
       "      <td>0</td>\n",
       "      <td>0</td>\n",
       "      <td>0</td>\n",
       "      <td>0</td>\n",
       "      <td>0</td>\n",
       "      <td>0</td>\n",
       "      <td>0</td>\n",
       "      <td>0</td>\n",
       "      <td>...</td>\n",
       "      <td>0</td>\n",
       "      <td>1</td>\n",
       "      <td>1</td>\n",
       "      <td>0</td>\n",
       "      <td>0</td>\n",
       "      <td>0</td>\n",
       "      <td>0</td>\n",
       "      <td>0</td>\n",
       "      <td>0</td>\n",
       "      <td>0</td>\n",
       "    </tr>\n",
       "    <tr>\n",
       "      <th>3</th>\n",
       "      <td>20160101.0</td>\n",
       "      <td>0</td>\n",
       "      <td>1</td>\n",
       "      <td>0</td>\n",
       "      <td>0</td>\n",
       "      <td>0</td>\n",
       "      <td>0</td>\n",
       "      <td>0</td>\n",
       "      <td>0</td>\n",
       "      <td>0</td>\n",
       "      <td>...</td>\n",
       "      <td>0</td>\n",
       "      <td>1</td>\n",
       "      <td>1</td>\n",
       "      <td>0</td>\n",
       "      <td>0</td>\n",
       "      <td>0</td>\n",
       "      <td>0</td>\n",
       "      <td>0</td>\n",
       "      <td>0</td>\n",
       "      <td>0</td>\n",
       "    </tr>\n",
       "    <tr>\n",
       "      <th>4</th>\n",
       "      <td>20160101.0</td>\n",
       "      <td>0</td>\n",
       "      <td>0</td>\n",
       "      <td>1</td>\n",
       "      <td>0</td>\n",
       "      <td>0</td>\n",
       "      <td>0</td>\n",
       "      <td>0</td>\n",
       "      <td>0</td>\n",
       "      <td>0</td>\n",
       "      <td>...</td>\n",
       "      <td>0</td>\n",
       "      <td>1</td>\n",
       "      <td>1</td>\n",
       "      <td>0</td>\n",
       "      <td>0</td>\n",
       "      <td>0</td>\n",
       "      <td>0</td>\n",
       "      <td>0</td>\n",
       "      <td>0</td>\n",
       "      <td>0</td>\n",
       "    </tr>\n",
       "  </tbody>\n",
       "</table>\n",
       "<p>5 rows × 99 columns</p>\n",
       "</div>"
      ],
      "text/plain": [
       "        tarih  urun_Armut  urun_Bakla-kuru  urun_Bakla-taze  urun_Bamya  \\\n",
       "0  20160101.0           0                0                0           0   \n",
       "1  20160101.0           0                0                0           0   \n",
       "2  20160101.0           0                0                0           0   \n",
       "3  20160101.0           0                1                0           0   \n",
       "4  20160101.0           0                0                1           0   \n",
       "\n",
       "   urun_Barbunya-kuru  urun_Bezelye-taze  urun_Biber-yeşil  \\\n",
       "0                   0                  0                 0   \n",
       "1                   0                  0                 0   \n",
       "2                   0                  0                 0   \n",
       "3                   0                  0                 0   \n",
       "4                   0                  0                 0   \n",
       "\n",
       "   urun_Brüksel laha.  urun_Bulgur  ...  market_C  market_M  sehir_A  sehir_B  \\\n",
       "0                   0            0  ...         0         1        1        0   \n",
       "1                   0            0  ...         0         1        1        0   \n",
       "2                   0            0  ...         0         1        1        0   \n",
       "3                   0            0  ...         0         1        1        0   \n",
       "4                   0            0  ...         0         1        1        0   \n",
       "\n",
       "   sehir_C  sehir_D  sehir_E  sehir_F  sehir_G  sehir_H  \n",
       "0        0        0        0        0        0        0  \n",
       "1        0        0        0        0        0        0  \n",
       "2        0        0        0        0        0        0  \n",
       "3        0        0        0        0        0        0  \n",
       "4        0        0        0        0        0        0  \n",
       "\n",
       "[5 rows x 99 columns]"
      ]
     },
     "execution_count": 12,
     "metadata": {},
     "output_type": "execute_result"
    }
   ],
   "source": [
    "x.head()"
   ]
  },
  {
   "cell_type": "code",
   "execution_count": 13,
   "id": "c4109d52",
   "metadata": {},
   "outputs": [],
   "source": [
    "x_train,x_test,y_train,y_test=train_test_split(x,y,test_size=0.33,random_state=0)"
   ]
  },
  {
   "cell_type": "code",
   "execution_count": 14,
   "id": "b21b0668",
   "metadata": {},
   "outputs": [],
   "source": [
    "scaler = MinMaxScaler()\n",
    "scaler.fit(x_train)\n",
    "x_train = scaler.transform(x_train)\n",
    "x_test = scaler.transform(x_test)"
   ]
  },
  {
   "cell_type": "code",
   "execution_count": 15,
   "id": "cf704f21",
   "metadata": {},
   "outputs": [],
   "source": [
    "model=Sequential()\n",
    "model.add(Dense(8,activation=\"relu\"))\n",
    "model.add(Dense(12,activation=\"relu\"))\n",
    "model.add(Dense(10,activation=\"relu\"))\n",
    "model.add(Dense(10,activation=\"relu\"))\n",
    "model.add(Dense(15,activation=\"relu\"))\n",
    "model.add(Dense(15,activation=\"relu\"))\n",
    "model.add(Dense(15,activation=\"relu\"))\n",
    "model.add(Dense(1))"
   ]
  },
  {
   "cell_type": "code",
   "execution_count": 16,
   "id": "91e17201",
   "metadata": {},
   "outputs": [],
   "source": [
    "#opt=tf.keras.optimizers.Adam(learning_rate=0.007999999821186066, beta_1=0.9, beta_2=0.999, epsilon=0.0026666000485420227, amsgrad=True)\n",
    "model.compile(optimizer=\"Adam\",loss=\"mse\")"
   ]
  },
  {
   "cell_type": "code",
   "execution_count": 17,
   "id": "c6e49a48",
   "metadata": {},
   "outputs": [
    {
     "name": "stdout",
     "output_type": "stream",
     "text": [
      "Epoch 1/10\n",
      "4288/4288 [==============================] - 28s 6ms/step - loss: 23.3693 - val_loss: 4.4837\n",
      "Epoch 2/10\n",
      "4288/4288 [==============================] - 38s 9ms/step - loss: 4.3542 - val_loss: 4.4737\n",
      "Epoch 3/10\n",
      "4288/4288 [==============================] - 34s 8ms/step - loss: 4.2239 - val_loss: 4.0374\n",
      "Epoch 4/10\n",
      "4288/4288 [==============================] - 35s 8ms/step - loss: 4.2096 - val_loss: 3.9264\n",
      "Epoch 5/10\n",
      "4288/4288 [==============================] - 34s 8ms/step - loss: 4.2392 - val_loss: 4.0126\n",
      "Epoch 6/10\n",
      "4288/4288 [==============================] - 51s 12ms/step - loss: 4.1855 - val_loss: 4.0177\n",
      "Epoch 7/10\n",
      "4288/4288 [==============================] - 32s 7ms/step - loss: 4.1837 - val_loss: 3.9422\n",
      "Epoch 8/10\n",
      "4288/4288 [==============================] - 32s 7ms/step - loss: 4.1231 - val_loss: 4.0696\n",
      "Epoch 9/10\n",
      "4288/4288 [==============================] - 32s 7ms/step - loss: 4.1492 - val_loss: 4.1742\n",
      "Epoch 10/10\n",
      "4288/4288 [==============================] - 33s 8ms/step - loss: 4.1405 - val_loss: 3.9173\n"
     ]
    },
    {
     "data": {
      "text/plain": [
       "<keras.callbacks.History at 0x1ae782d9a80>"
      ]
     },
     "execution_count": 17,
     "metadata": {},
     "output_type": "execute_result"
    }
   ],
   "source": [
    "model.fit(x_train,y_train,epochs=10,validation_split=0.1)"
   ]
  },
  {
   "cell_type": "code",
   "execution_count": 18,
   "id": "84fe7931",
   "metadata": {},
   "outputs": [
    {
     "data": {
      "text/plain": [
       "<AxesSubplot:>"
      ]
     },
     "execution_count": 18,
     "metadata": {},
     "output_type": "execute_result"
    },
    {
     "data": {
      "image/png": "[encoded data removed]",
      "text/plain": [
       "<Figure size 432x288 with 1 Axes>"
      ]
     },
     "metadata": {
      "needs_background": "light"
     },
     "output_type": "display_data"
    }
   ],
   "source": [
    "history=pd.DataFrame(model.history.history)\n",
    "history.plot()"
   ]
  },
  {
   "cell_type": "code",
   "execution_count": 19,
   "id": "b44cec65",
   "metadata": {},
   "outputs": [
    {
     "name": "stdout",
     "output_type": "stream",
     "text": [
      "2347/2347 [==============================] - 7s 3ms/step - loss: 3.9291\n"
     ]
    },
    {
     "data": {
      "text/plain": [
       "3.929105758666992"
      ]
     },
     "execution_count": 19,
     "metadata": {},
     "output_type": "execute_result"
    }
   ],
   "source": [
    "model.evaluate(x_test,y_test)"
   ]
  },
  {
   "cell_type": "code",
   "execution_count": 20,
   "id": "f544f15f",
   "metadata": {},
   "outputs": [
    {
     "data": {
      "text/plain": [
       "75082"
      ]
     },
     "execution_count": 20,
     "metadata": {},
     "output_type": "execute_result"
    }
   ],
   "source": [
    "testTahminleri=model.predict(x_test)\n",
    "len(testTahminleri)"
   ]
  },
  {
   "cell_type": "code",
   "execution_count": 21,
   "id": "ed79d60f",
   "metadata": {},
   "outputs": [
    {
     "name": "stdout",
     "output_type": "stream",
     "text": [
      "[0.243309 0.       0.       0.       0.       0.       0.       0.\n",
      " 0.       0.       0.       0.       0.       0.       0.       0.\n",
      " 0.       0.       0.       0.       0.       0.       0.       0.\n",
      " 0.       0.       0.       0.       0.       0.       0.       0.\n",
      " 0.       0.       0.       0.       0.       0.       0.       0.\n",
      " 0.       0.       0.       0.       0.       0.       0.       0.\n",
      " 0.       0.       0.       0.       0.       0.       0.       1.\n",
      " 0.       0.       0.       0.       0.       0.       0.       0.\n",
      " 0.       0.       0.       0.       0.       0.       0.       0.\n",
      " 0.       0.       0.       0.       0.       0.       0.       0.\n",
      " 0.       0.       0.       0.       0.       1.       1.       0.\n",
      " 1.       0.       0.       1.       0.       0.       0.       0.\n",
      " 0.       0.       0.      ]\n",
      "[16.319763]\n"
     ]
    }
   ],
   "source": [
    "print(x_test[0])\n",
    "print(testTahminleri[0])"
   ]
  },
  {
   "cell_type": "code",
   "execution_count": 22,
   "id": "4d868120",
   "metadata": {},
   "outputs": [],
   "source": [
    "tahmin=pd.DataFrame(y_test.values)\n",
    "testTahminleri= pd.Series(testTahminleri.reshape(75082,))\n",
    "tahminDf=pd.concat([tahmin,testTahminleri],axis=1)\n",
    "tahminDf.columns=[\"Gerçek Değer\",\"Test Sonucu\"]"
   ]
  },
  {
   "cell_type": "code",
   "execution_count": 23,
   "id": "f75b094b",
   "metadata": {},
   "outputs": [
    {
     "data": {
      "text/html": [
       "<div>\n",
       "<style scoped>\n",
       "    .dataframe tbody tr th:only-of-type {\n",
       "        vertical-align: middle;\n",
       "    }\n",
       "\n",
       "    .dataframe tbody tr th {\n",
       "        vertical-align: top;\n",
       "    }\n",
       "\n",
       "    .dataframe thead th {\n",
       "        text-align: right;\n",
       "    }\n",
       "</style>\n",
       "<table border=\"1\" class=\"dataframe\">\n",
       "  <thead>\n",
       "    <tr style=\"text-align: right;\">\n",
       "      <th></th>\n",
       "      <th>Gerçek Değer</th>\n",
       "      <th>Test Sonucu</th>\n",
       "    </tr>\n",
       "  </thead>\n",
       "  <tbody>\n",
       "    <tr>\n",
       "      <th>0</th>\n",
       "      <td>14.76</td>\n",
       "      <td>16.319763</td>\n",
       "    </tr>\n",
       "    <tr>\n",
       "      <th>1</th>\n",
       "      <td>6.19</td>\n",
       "      <td>6.440044</td>\n",
       "    </tr>\n",
       "    <tr>\n",
       "      <th>2</th>\n",
       "      <td>38.22</td>\n",
       "      <td>41.036083</td>\n",
       "    </tr>\n",
       "    <tr>\n",
       "      <th>3</th>\n",
       "      <td>9.84</td>\n",
       "      <td>9.243193</td>\n",
       "    </tr>\n",
       "    <tr>\n",
       "      <th>4</th>\n",
       "      <td>7.64</td>\n",
       "      <td>6.965960</td>\n",
       "    </tr>\n",
       "    <tr>\n",
       "      <th>5</th>\n",
       "      <td>27.07</td>\n",
       "      <td>25.036230</td>\n",
       "    </tr>\n",
       "    <tr>\n",
       "      <th>6</th>\n",
       "      <td>20.08</td>\n",
       "      <td>22.202391</td>\n",
       "    </tr>\n",
       "    <tr>\n",
       "      <th>7</th>\n",
       "      <td>19.69</td>\n",
       "      <td>20.439573</td>\n",
       "    </tr>\n",
       "    <tr>\n",
       "      <th>8</th>\n",
       "      <td>12.82</td>\n",
       "      <td>13.533752</td>\n",
       "    </tr>\n",
       "    <tr>\n",
       "      <th>9</th>\n",
       "      <td>19.25</td>\n",
       "      <td>17.899443</td>\n",
       "    </tr>\n",
       "    <tr>\n",
       "      <th>10</th>\n",
       "      <td>29.40</td>\n",
       "      <td>35.895382</td>\n",
       "    </tr>\n",
       "    <tr>\n",
       "      <th>11</th>\n",
       "      <td>2.79</td>\n",
       "      <td>1.857459</td>\n",
       "    </tr>\n",
       "    <tr>\n",
       "      <th>12</th>\n",
       "      <td>43.80</td>\n",
       "      <td>43.536392</td>\n",
       "    </tr>\n",
       "    <tr>\n",
       "      <th>13</th>\n",
       "      <td>29.85</td>\n",
       "      <td>31.551609</td>\n",
       "    </tr>\n",
       "    <tr>\n",
       "      <th>14</th>\n",
       "      <td>11.85</td>\n",
       "      <td>10.580622</td>\n",
       "    </tr>\n",
       "    <tr>\n",
       "      <th>15</th>\n",
       "      <td>7.59</td>\n",
       "      <td>6.017572</td>\n",
       "    </tr>\n",
       "    <tr>\n",
       "      <th>16</th>\n",
       "      <td>9.57</td>\n",
       "      <td>10.293607</td>\n",
       "    </tr>\n",
       "    <tr>\n",
       "      <th>17</th>\n",
       "      <td>33.08</td>\n",
       "      <td>32.071503</td>\n",
       "    </tr>\n",
       "    <tr>\n",
       "      <th>18</th>\n",
       "      <td>5.08</td>\n",
       "      <td>5.068318</td>\n",
       "    </tr>\n",
       "    <tr>\n",
       "      <th>19</th>\n",
       "      <td>11.77</td>\n",
       "      <td>11.173439</td>\n",
       "    </tr>\n",
       "  </tbody>\n",
       "</table>\n",
       "</div>"
      ],
      "text/plain": [
       "    Gerçek Değer  Test Sonucu\n",
       "0          14.76    16.319763\n",
       "1           6.19     6.440044\n",
       "2          38.22    41.036083\n",
       "3           9.84     9.243193\n",
       "4           7.64     6.965960\n",
       "5          27.07    25.036230\n",
       "6          20.08    22.202391\n",
       "7          19.69    20.439573\n",
       "8          12.82    13.533752\n",
       "9          19.25    17.899443\n",
       "10         29.40    35.895382\n",
       "11          2.79     1.857459\n",
       "12         43.80    43.536392\n",
       "13         29.85    31.551609\n",
       "14         11.85    10.580622\n",
       "15          7.59     6.017572\n",
       "16          9.57    10.293607\n",
       "17         33.08    32.071503\n",
       "18          5.08     5.068318\n",
       "19         11.77    11.173439"
      ]
     },
     "execution_count": 23,
     "metadata": {},
     "output_type": "execute_result"
    }
   ],
   "source": [
    "tahminDf.head(20)"
   ]
  },
  {
   "cell_type": "code",
   "execution_count": null,
   "id": "fd9be5c2",
   "metadata": {},
   "outputs": [],
   "source": []
  },
  {
   "cell_type": "code",
   "execution_count": null,
   "id": "ba2d4ee0",
   "metadata": {},
   "outputs": [],
   "source": []
  },
  {
   "cell_type": "code",
   "execution_count": null,
   "id": "5a5ea98a",
   "metadata": {},
   "outputs": [],
   "source": []
  },
  {
   "cell_type": "code",
   "execution_count": 47,
   "id": "f6edcf60",
   "metadata": {},
   "outputs": [],
   "source": [
    "test=pd.read_csv(\"veriler\\datathon\\\\testFeatures.csv\")"
   ]
  },
  {
   "cell_type": "code",
   "execution_count": 48,
   "id": "231e96d6",
   "metadata": {},
   "outputs": [],
   "source": [
    "sutunisimler=[\"id\",\"tarih\",\"urun\",\"besin\",\"kategori\",\"uretimyeri\",\"market\",\"sehir\"]\n",
    "test.columns=sutunisimler"
   ]
  },
  {
   "cell_type": "code",
   "execution_count": 49,
   "id": "2b6de8f4",
   "metadata": {},
   "outputs": [],
   "source": [
    "one_hot = pd.get_dummies(test[['urun','kategori','uretimyeri','market','sehir']])\n",
    "test = test.drop([\"id\",'urun','kategori','uretimyeri','market','sehir','besin'],axis = 1)\n",
    "test = test.join(one_hot)"
   ]
  },
  {
   "cell_type": "code",
   "execution_count": 59,
   "id": "6bc5c249",
   "metadata": {},
   "outputs": [
    {
     "data": {
      "text/html": [
       "<div>\n",
       "<style scoped>\n",
       "    .dataframe tbody tr th:only-of-type {\n",
       "        vertical-align: middle;\n",
       "    }\n",
       "\n",
       "    .dataframe tbody tr th {\n",
       "        vertical-align: top;\n",
       "    }\n",
       "\n",
       "    .dataframe thead th {\n",
       "        text-align: right;\n",
       "    }\n",
       "</style>\n",
       "<table border=\"1\" class=\"dataframe\">\n",
       "  <thead>\n",
       "    <tr style=\"text-align: right;\">\n",
       "      <th></th>\n",
       "      <th>tarih</th>\n",
       "      <th>urun_Armut</th>\n",
       "      <th>urun_Bakla-kuru</th>\n",
       "      <th>urun_Bakla-taze</th>\n",
       "      <th>urun_Bamya</th>\n",
       "      <th>urun_Barbunya-kuru</th>\n",
       "      <th>urun_Bezelye-taze</th>\n",
       "      <th>urun_Biber-yeşil</th>\n",
       "      <th>urun_Brüksel laha.</th>\n",
       "      <th>urun_Bulgur</th>\n",
       "      <th>...</th>\n",
       "      <th>market_C</th>\n",
       "      <th>market_M</th>\n",
       "      <th>sehir_A</th>\n",
       "      <th>sehir_B</th>\n",
       "      <th>sehir_C</th>\n",
       "      <th>sehir_D</th>\n",
       "      <th>sehir_E</th>\n",
       "      <th>sehir_F</th>\n",
       "      <th>sehir_G</th>\n",
       "      <th>sehir_H</th>\n",
       "    </tr>\n",
       "  </thead>\n",
       "  <tbody>\n",
       "    <tr>\n",
       "      <th>0</th>\n",
       "      <td>20210101.0</td>\n",
       "      <td>0</td>\n",
       "      <td>0</td>\n",
       "      <td>0</td>\n",
       "      <td>0</td>\n",
       "      <td>0</td>\n",
       "      <td>0</td>\n",
       "      <td>0</td>\n",
       "      <td>0</td>\n",
       "      <td>0</td>\n",
       "      <td>...</td>\n",
       "      <td>0</td>\n",
       "      <td>1</td>\n",
       "      <td>1</td>\n",
       "      <td>0</td>\n",
       "      <td>0</td>\n",
       "      <td>0</td>\n",
       "      <td>0</td>\n",
       "      <td>0</td>\n",
       "      <td>0</td>\n",
       "      <td>0</td>\n",
       "    </tr>\n",
       "    <tr>\n",
       "      <th>1</th>\n",
       "      <td>20210101.0</td>\n",
       "      <td>0</td>\n",
       "      <td>0</td>\n",
       "      <td>0</td>\n",
       "      <td>0</td>\n",
       "      <td>0</td>\n",
       "      <td>0</td>\n",
       "      <td>0</td>\n",
       "      <td>0</td>\n",
       "      <td>0</td>\n",
       "      <td>...</td>\n",
       "      <td>0</td>\n",
       "      <td>1</td>\n",
       "      <td>1</td>\n",
       "      <td>0</td>\n",
       "      <td>0</td>\n",
       "      <td>0</td>\n",
       "      <td>0</td>\n",
       "      <td>0</td>\n",
       "      <td>0</td>\n",
       "      <td>0</td>\n",
       "    </tr>\n",
       "    <tr>\n",
       "      <th>2</th>\n",
       "      <td>20210101.0</td>\n",
       "      <td>0</td>\n",
       "      <td>0</td>\n",
       "      <td>0</td>\n",
       "      <td>0</td>\n",
       "      <td>0</td>\n",
       "      <td>0</td>\n",
       "      <td>0</td>\n",
       "      <td>0</td>\n",
       "      <td>0</td>\n",
       "      <td>...</td>\n",
       "      <td>0</td>\n",
       "      <td>1</td>\n",
       "      <td>1</td>\n",
       "      <td>0</td>\n",
       "      <td>0</td>\n",
       "      <td>0</td>\n",
       "      <td>0</td>\n",
       "      <td>0</td>\n",
       "      <td>0</td>\n",
       "      <td>0</td>\n",
       "    </tr>\n",
       "    <tr>\n",
       "      <th>3</th>\n",
       "      <td>20210101.0</td>\n",
       "      <td>0</td>\n",
       "      <td>1</td>\n",
       "      <td>0</td>\n",
       "      <td>0</td>\n",
       "      <td>0</td>\n",
       "      <td>0</td>\n",
       "      <td>0</td>\n",
       "      <td>0</td>\n",
       "      <td>0</td>\n",
       "      <td>...</td>\n",
       "      <td>0</td>\n",
       "      <td>1</td>\n",
       "      <td>1</td>\n",
       "      <td>0</td>\n",
       "      <td>0</td>\n",
       "      <td>0</td>\n",
       "      <td>0</td>\n",
       "      <td>0</td>\n",
       "      <td>0</td>\n",
       "      <td>0</td>\n",
       "    </tr>\n",
       "    <tr>\n",
       "      <th>4</th>\n",
       "      <td>20210101.0</td>\n",
       "      <td>0</td>\n",
       "      <td>0</td>\n",
       "      <td>1</td>\n",
       "      <td>0</td>\n",
       "      <td>0</td>\n",
       "      <td>0</td>\n",
       "      <td>0</td>\n",
       "      <td>0</td>\n",
       "      <td>0</td>\n",
       "      <td>...</td>\n",
       "      <td>0</td>\n",
       "      <td>1</td>\n",
       "      <td>1</td>\n",
       "      <td>0</td>\n",
       "      <td>0</td>\n",
       "      <td>0</td>\n",
       "      <td>0</td>\n",
       "      <td>0</td>\n",
       "      <td>0</td>\n",
       "      <td>0</td>\n",
       "    </tr>\n",
       "  </tbody>\n",
       "</table>\n",
       "<p>5 rows × 99 columns</p>\n",
       "</div>"
      ],
      "text/plain": [
       "        tarih  urun_Armut  urun_Bakla-kuru  urun_Bakla-taze  urun_Bamya  \\\n",
       "0  20210101.0           0                0                0           0   \n",
       "1  20210101.0           0                0                0           0   \n",
       "2  20210101.0           0                0                0           0   \n",
       "3  20210101.0           0                1                0           0   \n",
       "4  20210101.0           0                0                1           0   \n",
       "\n",
       "   urun_Barbunya-kuru  urun_Bezelye-taze  urun_Biber-yeşil  \\\n",
       "0                   0                  0                 0   \n",
       "1                   0                  0                 0   \n",
       "2                   0                  0                 0   \n",
       "3                   0                  0                 0   \n",
       "4                   0                  0                 0   \n",
       "\n",
       "   urun_Brüksel laha.  urun_Bulgur  ...  market_C  market_M  sehir_A  sehir_B  \\\n",
       "0                   0            0  ...         0         1        1        0   \n",
       "1                   0            0  ...         0         1        1        0   \n",
       "2                   0            0  ...         0         1        1        0   \n",
       "3                   0            0  ...         0         1        1        0   \n",
       "4                   0            0  ...         0         1        1        0   \n",
       "\n",
       "   sehir_C  sehir_D  sehir_E  sehir_F  sehir_G  sehir_H  \n",
       "0        0        0        0        0        0        0  \n",
       "1        0        0        0        0        0        0  \n",
       "2        0        0        0        0        0        0  \n",
       "3        0        0        0        0        0        0  \n",
       "4        0        0        0        0        0        0  \n",
       "\n",
       "[5 rows x 99 columns]"
      ]
     },
     "execution_count": 59,
     "metadata": {},
     "output_type": "execute_result"
    }
   ],
   "source": [
    "test.head()"
   ]
  },
  {
   "cell_type": "code",
   "execution_count": 51,
   "id": "74a81a8d",
   "metadata": {},
   "outputs": [],
   "source": [
    "test[\"tarih\"]=test[\"tarih\"].str.replace(\"-\",\"\").astype(float)"
   ]
  },
  {
   "cell_type": "code",
   "execution_count": 56,
   "id": "8616ba03",
   "metadata": {},
   "outputs": [
    {
     "data": {
      "text/plain": [
       "45504"
      ]
     },
     "execution_count": 56,
     "metadata": {},
     "output_type": "execute_result"
    }
   ],
   "source": [
    "testTahminleri=model.predict(test)\n",
    "len(testTahminleri)"
   ]
  },
  {
   "cell_type": "code",
   "execution_count": 57,
   "id": "8b761c2c",
   "metadata": {},
   "outputs": [],
   "source": [
    "testTahminleri= pd.Series(testTahminleri.reshape(45504,))\n",
    "tahminDf=pd.concat([testTahminleri],axis=1)\n",
    "tahminDf.columns=[\"Test Sonucu\"]"
   ]
  },
  {
   "cell_type": "code",
   "execution_count": 58,
   "id": "0d602077",
   "metadata": {},
   "outputs": [
    {
     "data": {
      "text/html": [
       "<div>\n",
       "<style scoped>\n",
       "    .dataframe tbody tr th:only-of-type {\n",
       "        vertical-align: middle;\n",
       "    }\n",
       "\n",
       "    .dataframe tbody tr th {\n",
       "        vertical-align: top;\n",
       "    }\n",
       "\n",
       "    .dataframe thead th {\n",
       "        text-align: right;\n",
       "    }\n",
       "</style>\n",
       "<table border=\"1\" class=\"dataframe\">\n",
       "  <thead>\n",
       "    <tr style=\"text-align: right;\">\n",
       "      <th></th>\n",
       "      <th>Test Sonucu</th>\n",
       "    </tr>\n",
       "  </thead>\n",
       "  <tbody>\n",
       "    <tr>\n",
       "      <th>0</th>\n",
       "      <td>1.319474e+09</td>\n",
       "    </tr>\n",
       "    <tr>\n",
       "      <th>1</th>\n",
       "      <td>1.319474e+09</td>\n",
       "    </tr>\n",
       "    <tr>\n",
       "      <th>2</th>\n",
       "      <td>1.319474e+09</td>\n",
       "    </tr>\n",
       "    <tr>\n",
       "      <th>3</th>\n",
       "      <td>1.319474e+09</td>\n",
       "    </tr>\n",
       "    <tr>\n",
       "      <th>4</th>\n",
       "      <td>1.319474e+09</td>\n",
       "    </tr>\n",
       "    <tr>\n",
       "      <th>5</th>\n",
       "      <td>1.319474e+09</td>\n",
       "    </tr>\n",
       "    <tr>\n",
       "      <th>6</th>\n",
       "      <td>1.319474e+09</td>\n",
       "    </tr>\n",
       "    <tr>\n",
       "      <th>7</th>\n",
       "      <td>1.319474e+09</td>\n",
       "    </tr>\n",
       "    <tr>\n",
       "      <th>8</th>\n",
       "      <td>1.319474e+09</td>\n",
       "    </tr>\n",
       "    <tr>\n",
       "      <th>9</th>\n",
       "      <td>1.319474e+09</td>\n",
       "    </tr>\n",
       "    <tr>\n",
       "      <th>10</th>\n",
       "      <td>1.319474e+09</td>\n",
       "    </tr>\n",
       "    <tr>\n",
       "      <th>11</th>\n",
       "      <td>1.319474e+09</td>\n",
       "    </tr>\n",
       "    <tr>\n",
       "      <th>12</th>\n",
       "      <td>1.319474e+09</td>\n",
       "    </tr>\n",
       "    <tr>\n",
       "      <th>13</th>\n",
       "      <td>1.319474e+09</td>\n",
       "    </tr>\n",
       "    <tr>\n",
       "      <th>14</th>\n",
       "      <td>1.319474e+09</td>\n",
       "    </tr>\n",
       "    <tr>\n",
       "      <th>15</th>\n",
       "      <td>1.319474e+09</td>\n",
       "    </tr>\n",
       "    <tr>\n",
       "      <th>16</th>\n",
       "      <td>1.319474e+09</td>\n",
       "    </tr>\n",
       "    <tr>\n",
       "      <th>17</th>\n",
       "      <td>1.319474e+09</td>\n",
       "    </tr>\n",
       "    <tr>\n",
       "      <th>18</th>\n",
       "      <td>1.319474e+09</td>\n",
       "    </tr>\n",
       "    <tr>\n",
       "      <th>19</th>\n",
       "      <td>1.319474e+09</td>\n",
       "    </tr>\n",
       "  </tbody>\n",
       "</table>\n",
       "</div>"
      ],
      "text/plain": [
       "     Test Sonucu\n",
       "0   1.319474e+09\n",
       "1   1.319474e+09\n",
       "2   1.319474e+09\n",
       "3   1.319474e+09\n",
       "4   1.319474e+09\n",
       "5   1.319474e+09\n",
       "6   1.319474e+09\n",
       "7   1.319474e+09\n",
       "8   1.319474e+09\n",
       "9   1.319474e+09\n",
       "10  1.319474e+09\n",
       "11  1.319474e+09\n",
       "12  1.319474e+09\n",
       "13  1.319474e+09\n",
       "14  1.319474e+09\n",
       "15  1.319474e+09\n",
       "16  1.319474e+09\n",
       "17  1.319474e+09\n",
       "18  1.319474e+09\n",
       "19  1.319474e+09"
      ]
     },
     "execution_count": 58,
     "metadata": {},
     "output_type": "execute_result"
    }
   ],
   "source": [
    "tahminDf.head(20)"
   ]
  },
  {
   "cell_type": "code",
   "execution_count": null,
   "id": "12a52596",
   "metadata": {},
   "outputs": [],
   "source": []
  }
 ],
 "metadata": {
  "kernelspec": {
   "display_name": "Python 3 (ipykernel)",
   "language": "python",
   "name": "python3"
  },
  "language_info": {
   "codemirror_mode": {
    "name": "ipython",
    "version": 3
   },
   "file_extension": ".py",
   "mimetype": "text/x-python",
   "name": "python",
   "nbconvert_exporter": "python",
   "pygments_lexer": "ipython3",
   "version": "3.10.3"
  }
 },
 "nbformat": 4,
 "nbformat_minor": 5
}
