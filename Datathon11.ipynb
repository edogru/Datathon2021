{
 "cells": [
  {
   "cell_type": "code",
   "execution_count": 1,
   "id": "a1755357",
   "metadata": {},
   "outputs": [],
   "source": [
    "import pandas as pd\n",
    "import numpy as np\n",
    "import matplotlib.pylab as plt"
   ]
  },
  {
   "cell_type": "code",
   "execution_count": 2,
   "id": "7b489abd",
   "metadata": {},
   "outputs": [],
   "source": [
    "train=pd.read_csv(\"veriler\\datathon\\\\train.csv\")\n",
    "test=pd.read_csv(\"veriler\\datathon\\\\testFeatures.csv\")"
   ]
  },
  {
   "cell_type": "code",
   "execution_count": 3,
   "id": "fbbc9966",
   "metadata": {},
   "outputs": [
    {
     "data": {
      "text/html": [
       "<div>\n",
       "<style scoped>\n",
       "    .dataframe tbody tr th:only-of-type {\n",
       "        vertical-align: middle;\n",
       "    }\n",
       "\n",
       "    .dataframe tbody tr th {\n",
       "        vertical-align: top;\n",
       "    }\n",
       "\n",
       "    .dataframe thead th {\n",
       "        text-align: right;\n",
       "    }\n",
       "</style>\n",
       "<table border=\"1\" class=\"dataframe\">\n",
       "  <thead>\n",
       "    <tr style=\"text-align: right;\">\n",
       "      <th></th>\n",
       "      <th>tarih</th>\n",
       "      <th>ürün</th>\n",
       "      <th>ürün besin değeri</th>\n",
       "      <th>ürün kategorisi</th>\n",
       "      <th>ürün fiyatı</th>\n",
       "      <th>ürün üretim yeri</th>\n",
       "      <th>market</th>\n",
       "      <th>şehir</th>\n",
       "    </tr>\n",
       "  </thead>\n",
       "  <tbody>\n",
       "    <tr>\n",
       "      <th>0</th>\n",
       "      <td>2016-01-01</td>\n",
       "      <td>kıyma</td>\n",
       "      <td>120</td>\n",
       "      <td>et</td>\n",
       "      <td>33.41</td>\n",
       "      <td>Yurt içi</td>\n",
       "      <td>M</td>\n",
       "      <td>A</td>\n",
       "    </tr>\n",
       "    <tr>\n",
       "      <th>1</th>\n",
       "      <td>2016-01-01</td>\n",
       "      <td>tavuk</td>\n",
       "      <td>103</td>\n",
       "      <td>et</td>\n",
       "      <td>11.22</td>\n",
       "      <td>Yurt içi</td>\n",
       "      <td>M</td>\n",
       "      <td>A</td>\n",
       "    </tr>\n",
       "    <tr>\n",
       "      <th>2</th>\n",
       "      <td>2016-01-01</td>\n",
       "      <td>hindi</td>\n",
       "      <td>160</td>\n",
       "      <td>et</td>\n",
       "      <td>11.12</td>\n",
       "      <td>Yurt içi</td>\n",
       "      <td>M</td>\n",
       "      <td>A</td>\n",
       "    </tr>\n",
       "    <tr>\n",
       "      <th>3</th>\n",
       "      <td>2016-01-01</td>\n",
       "      <td>Bakla-kuru</td>\n",
       "      <td>354</td>\n",
       "      <td>sebze ve bakliyat</td>\n",
       "      <td>7.02</td>\n",
       "      <td>Yurt içi</td>\n",
       "      <td>M</td>\n",
       "      <td>A</td>\n",
       "    </tr>\n",
       "    <tr>\n",
       "      <th>4</th>\n",
       "      <td>2016-01-01</td>\n",
       "      <td>Bakla-taze</td>\n",
       "      <td>72</td>\n",
       "      <td>sebze ve bakliyat</td>\n",
       "      <td>13.14</td>\n",
       "      <td>Yurt içi</td>\n",
       "      <td>M</td>\n",
       "      <td>A</td>\n",
       "    </tr>\n",
       "  </tbody>\n",
       "</table>\n",
       "</div>"
      ],
      "text/plain": [
       "        tarih        ürün  ürün besin değeri    ürün kategorisi  ürün fiyatı  \\\n",
       "0  2016-01-01       kıyma                120                 et        33.41   \n",
       "1  2016-01-01       tavuk                103                 et        11.22   \n",
       "2  2016-01-01       hindi                160                 et        11.12   \n",
       "3  2016-01-01  Bakla-kuru                354  sebze ve bakliyat         7.02   \n",
       "4  2016-01-01  Bakla-taze                 72  sebze ve bakliyat        13.14   \n",
       "\n",
       "  ürün üretim yeri market şehir  \n",
       "0         Yurt içi      M     A  \n",
       "1         Yurt içi      M     A  \n",
       "2         Yurt içi      M     A  \n",
       "3         Yurt içi      M     A  \n",
       "4         Yurt içi      M     A  "
      ]
     },
     "execution_count": 3,
     "metadata": {},
     "output_type": "execute_result"
    }
   ],
   "source": [
    "train.head()"
   ]
  },
  {
   "cell_type": "code",
   "execution_count": 4,
   "id": "ae90d861",
   "metadata": {},
   "outputs": [],
   "source": [
    "sutunisimler=[\"tarih\",\"urun\",\"besin\",\"kategori\",\"fiyat\",\"uretimyeri\",\"market\",\"sehir\"]\n",
    "train.columns=sutunisimler"
   ]
  },
  {
   "cell_type": "code",
   "execution_count": 225,
   "id": "88b011e8",
   "metadata": {},
   "outputs": [
    {
     "name": "stdout",
     "output_type": "stream",
     "text": [
      "<class 'pandas.core.frame.DataFrame'>\n",
      "RangeIndex: 227520 entries, 0 to 227519\n",
      "Data columns (total 8 columns):\n",
      " #   Column      Non-Null Count   Dtype  \n",
      "---  ------      --------------   -----  \n",
      " 0   tarih       227520 non-null  object \n",
      " 1   urun        227520 non-null  object \n",
      " 2   besin       227520 non-null  int64  \n",
      " 3   kategori    227520 non-null  object \n",
      " 4   fiyat       227520 non-null  float64\n",
      " 5   uretimyeri  227520 non-null  object \n",
      " 6   market      227520 non-null  object \n",
      " 7   sehir       227520 non-null  object \n",
      "dtypes: float64(1), int64(1), object(6)\n",
      "memory usage: 13.9+ MB\n"
     ]
    }
   ],
   "source": [
    "train.info()"
   ]
  },
  {
   "cell_type": "code",
   "execution_count": 226,
   "id": "b6051720",
   "metadata": {},
   "outputs": [
    {
     "data": {
      "text/plain": [
       "(227520, 8)"
      ]
     },
     "execution_count": 226,
     "metadata": {},
     "output_type": "execute_result"
    }
   ],
   "source": [
    "train.shape"
   ]
  },
  {
   "cell_type": "code",
   "execution_count": 227,
   "id": "3dc62331",
   "metadata": {},
   "outputs": [
    {
     "data": {
      "text/plain": [
       "tarih         0\n",
       "urun          0\n",
       "besin         0\n",
       "kategori      0\n",
       "fiyat         0\n",
       "uretimyeri    0\n",
       "market        0\n",
       "sehir         0\n",
       "dtype: int64"
      ]
     },
     "execution_count": 227,
     "metadata": {},
     "output_type": "execute_result"
    }
   ],
   "source": [
    "train.isnull().sum()"
   ]
  },
  {
   "cell_type": "code",
   "execution_count": 228,
   "id": "0d3bd3d6",
   "metadata": {},
   "outputs": [
    {
     "data": {
      "text/plain": [
       "79"
      ]
     },
     "execution_count": 228,
     "metadata": {},
     "output_type": "execute_result"
    }
   ],
   "source": [
    "train.urun.nunique()"
   ]
  },
  {
   "cell_type": "code",
   "execution_count": 229,
   "id": "2719dd6b",
   "metadata": {},
   "outputs": [
    {
     "data": {
      "text/plain": [
       "array(['2016-01-01', '2016-02-01', '2016-03-01', '2016-04-01',\n",
       "       '2016-05-01', '2016-06-01', '2016-07-01', '2016-08-01',\n",
       "       '2016-09-01', '2016-10-01', '2016-11-01', '2016-12-01',\n",
       "       '2017-01-01', '2017-02-01', '2017-03-01', '2017-04-01',\n",
       "       '2017-05-01', '2017-06-01', '2017-07-01', '2017-08-01',\n",
       "       '2017-09-01', '2017-10-01', '2017-11-01', '2017-12-01',\n",
       "       '2018-01-01', '2018-02-01', '2018-03-01', '2018-04-01',\n",
       "       '2018-05-01', '2018-06-01', '2018-07-01', '2018-08-01',\n",
       "       '2018-09-01', '2018-10-01', '2018-11-01', '2018-12-01',\n",
       "       '2019-01-01', '2019-02-01', '2019-03-01', '2019-04-01',\n",
       "       '2019-05-01', '2019-06-01', '2019-07-01', '2019-08-01',\n",
       "       '2019-09-01', '2019-10-01', '2019-11-01', '2019-12-01',\n",
       "       '2020-01-01', '2020-02-01', '2020-03-01', '2020-04-01',\n",
       "       '2020-05-01', '2020-06-01', '2020-07-01', '2020-08-01',\n",
       "       '2020-09-01', '2020-10-01', '2020-11-01', '2020-12-01'],\n",
       "      dtype=object)"
      ]
     },
     "execution_count": 229,
     "metadata": {},
     "output_type": "execute_result"
    }
   ],
   "source": [
    "train.tarih.unique()"
   ]
  },
  {
   "cell_type": "code",
   "execution_count": 230,
   "id": "706db628",
   "metadata": {},
   "outputs": [
    {
     "data": {
      "text/plain": [
       "array(['kıyma', 'tavuk', 'hindi', 'Bakla-kuru', 'Bakla-taze', 'Bamya',\n",
       "       'Barbunya-kuru', 'Bezelye-taze', 'Biber-yeşil', 'Brüksel laha.',\n",
       "       'Domates', 'Enginar', 'Fasulye-kuru', 'Fasulye-taze', 'Havuç',\n",
       "       'Salatalık', 'Ispanak', 'Kabak', 'Karnabahar', 'Kereviz-baş',\n",
       "       'Kırmızı-pancar', 'Lahana', 'Mantar', 'Marul', 'Mercimek-kuru',\n",
       "       'Nohut', 'Pancar', 'Patates', 'Patlıcan', 'Pazı', 'Pırasa',\n",
       "       'Semizotu', 'Buğday ekmeği', 'Bulgur', 'Erişte', 'Makarna',\n",
       "       'Mısır', 'Mısır unu', 'Nişasta', 'Pilav', 'Pirinç unu', 'Şehriye',\n",
       "       'Tarhana', 'Yulaf unu', 'yumurta', 'beyaz peynir', 'Kaşar peyniri',\n",
       "       'krema', 'yoğurt', 'sucuk', 'salam', 'sosis', 'tam buğday ekmek',\n",
       "       'kaymak', 'bal', 'tereyağ', 'Armut', 'Çilek', 'Elma',\n",
       "       'Erik türleri', 'İncir', 'Karadut', 'Karpuz', 'Kavun', 'Kayısı',\n",
       "       'Kiraz', 'Limon', 'Mandalina', 'Muz', 'Nar', 'Portakal', 'Şeftali',\n",
       "       'Üzüm', 'Vişne', 'fındık', 'fıstık', 'kaju', 'badem', 'ceviz'],\n",
       "      dtype=object)"
      ]
     },
     "execution_count": 230,
     "metadata": {},
     "output_type": "execute_result"
    }
   ],
   "source": [
    "train.urun.unique()"
   ]
  },
  {
   "cell_type": "code",
   "execution_count": 231,
   "id": "a567a0cf",
   "metadata": {},
   "outputs": [
    {
     "data": {
      "text/plain": [
       "kıyma            2880\n",
       "salam            2880\n",
       "Çilek            2880\n",
       "Armut            2880\n",
       "tereyağ          2880\n",
       "                 ... \n",
       "Nohut            2880\n",
       "Mercimek-kuru    2880\n",
       "Marul            2880\n",
       "Mantar           2880\n",
       "ceviz            2880\n",
       "Name: urun, Length: 79, dtype: int64"
      ]
     },
     "execution_count": 231,
     "metadata": {},
     "output_type": "execute_result"
    }
   ],
   "source": [
    "train.urun.value_counts()"
   ]
  },
  {
   "cell_type": "code",
   "execution_count": 232,
   "id": "b84a2efc",
   "metadata": {},
   "outputs": [
    {
     "data": {
      "text/plain": [
       "array([120, 103, 160, 354,  72,  42, 346,  47,  25,  63, 333,  35,   8,\n",
       "        19,  38,  24,  16,  15, 351, 376,  83,  27,  52,  32, 247, 350,\n",
       "       390, 353, 368, 329, 402, 100, 150, 170, 200,  90, 125, 250, 400,\n",
       "       375,  57,  39,  60,  80,  93,  28,  54,  79,  17,  36,  77,  41,\n",
       "        49,  74, 110, 115], dtype=int64)"
      ]
     },
     "execution_count": 232,
     "metadata": {},
     "output_type": "execute_result"
    }
   ],
   "source": [
    "train.besin.unique()"
   ]
  },
  {
   "cell_type": "code",
   "execution_count": 233,
   "id": "3febaf89",
   "metadata": {},
   "outputs": [
    {
     "data": {
      "text/plain": [
       "56"
      ]
     },
     "execution_count": 233,
     "metadata": {},
     "output_type": "execute_result"
    }
   ],
   "source": [
    "train.besin.nunique()"
   ]
  },
  {
   "cell_type": "code",
   "execution_count": 234,
   "id": "98a2f5b5",
   "metadata": {},
   "outputs": [
    {
     "data": {
      "text/plain": [
       "42     11520\n",
       "25     11520\n",
       "120     8640\n",
       "353     8640\n",
       "24      8640\n",
       "390     8640\n",
       "57      5760\n",
       "52      5760\n",
       "350     5760\n",
       "351     5760\n",
       "47      5760\n",
       "125     5760\n",
       "90      5760\n",
       "100     5760\n",
       "110     5760\n",
       "39      2880\n",
       "400     2880\n",
       "375     2880\n",
       "250     2880\n",
       "93      2880\n",
       "60      2880\n",
       "80      2880\n",
       "170     2880\n",
       "28      2880\n",
       "54      2880\n",
       "79      2880\n",
       "17      2880\n",
       "36      2880\n",
       "77      2880\n",
       "41      2880\n",
       "49      2880\n",
       "74      2880\n",
       "200     2880\n",
       "368     2880\n",
       "150     2880\n",
       "402     2880\n",
       "160     2880\n",
       "354     2880\n",
       "72      2880\n",
       "346     2880\n",
       "63      2880\n",
       "333     2880\n",
       "35      2880\n",
       "8       2880\n",
       "19      2880\n",
       "38      2880\n",
       "16      2880\n",
       "15      2880\n",
       "376     2880\n",
       "83      2880\n",
       "27      2880\n",
       "32      2880\n",
       "247     2880\n",
       "103     2880\n",
       "329     2880\n",
       "115     2880\n",
       "Name: besin, dtype: int64"
      ]
     },
     "execution_count": 234,
     "metadata": {},
     "output_type": "execute_result"
    }
   ],
   "source": [
    "train.besin.value_counts()"
   ]
  },
  {
   "cell_type": "code",
   "execution_count": 235,
   "id": "4ea8501a",
   "metadata": {},
   "outputs": [
    {
     "data": {
      "text/plain": [
       "array(['et', 'sebze ve bakliyat', 'tahıl ve ürünleri',\n",
       "       'süt ürünleri ve kahvaltılık', 'meyve', 'kuruyemiş'], dtype=object)"
      ]
     },
     "execution_count": 235,
     "metadata": {},
     "output_type": "execute_result"
    }
   ],
   "source": [
    "train.kategori.unique()"
   ]
  },
  {
   "cell_type": "code",
   "execution_count": 236,
   "id": "8210b9ad",
   "metadata": {},
   "outputs": [
    {
     "data": {
      "text/plain": [
       "6"
      ]
     },
     "execution_count": 236,
     "metadata": {},
     "output_type": "execute_result"
    }
   ],
   "source": [
    "train.kategori.nunique()"
   ]
  },
  {
   "cell_type": "code",
   "execution_count": 237,
   "id": "e46ac3c4",
   "metadata": {},
   "outputs": [
    {
     "data": {
      "text/plain": [
       "array(['et', 'sebze ve bakliyat', 'tahıl ve ürünleri',\n",
       "       'süt ürünleri ve kahvaltılık', 'meyve', 'kuruyemiş'], dtype=object)"
      ]
     },
     "execution_count": 237,
     "metadata": {},
     "output_type": "execute_result"
    }
   ],
   "source": [
    "train.kategori.unique()"
   ]
  },
  {
   "cell_type": "code",
   "execution_count": 238,
   "id": "93ded3b9",
   "metadata": {},
   "outputs": [
    {
     "data": {
      "text/plain": [
       "array(['Yurt içi', 'Yurt dışı'], dtype=object)"
      ]
     },
     "execution_count": 238,
     "metadata": {},
     "output_type": "execute_result"
    }
   ],
   "source": [
    "train.uretimyeri.unique()"
   ]
  },
  {
   "cell_type": "code",
   "execution_count": 239,
   "id": "b417f7f8",
   "metadata": {},
   "outputs": [
    {
     "data": {
      "text/plain": [
       "Yurt içi     113760\n",
       "Yurt dışı    113760\n",
       "Name: uretimyeri, dtype: int64"
      ]
     },
     "execution_count": 239,
     "metadata": {},
     "output_type": "execute_result"
    }
   ],
   "source": [
    "train.uretimyeri.value_counts()"
   ]
  },
  {
   "cell_type": "code",
   "execution_count": 240,
   "id": "3385e77e",
   "metadata": {},
   "outputs": [
    {
     "data": {
      "text/plain": [
       "array(['M', 'C', 'B'], dtype=object)"
      ]
     },
     "execution_count": 240,
     "metadata": {},
     "output_type": "execute_result"
    }
   ],
   "source": [
    "train.market.unique()"
   ]
  },
  {
   "cell_type": "code",
   "execution_count": 241,
   "id": "0e70d7e5",
   "metadata": {},
   "outputs": [
    {
     "data": {
      "text/plain": [
       "M    75840\n",
       "C    75840\n",
       "B    75840\n",
       "Name: market, dtype: int64"
      ]
     },
     "execution_count": 241,
     "metadata": {},
     "output_type": "execute_result"
    }
   ],
   "source": [
    "train.market.value_counts()"
   ]
  },
  {
   "cell_type": "code",
   "execution_count": 242,
   "id": "927f4bd2",
   "metadata": {},
   "outputs": [
    {
     "data": {
      "text/plain": [
       "array(['A', 'B', 'C', 'D', 'E', 'F', 'G', 'H'], dtype=object)"
      ]
     },
     "execution_count": 242,
     "metadata": {},
     "output_type": "execute_result"
    }
   ],
   "source": [
    "train.sehir.unique()"
   ]
  },
  {
   "cell_type": "code",
   "execution_count": 243,
   "id": "4497323d",
   "metadata": {},
   "outputs": [
    {
     "data": {
      "text/plain": [
       "A    28440\n",
       "B    28440\n",
       "C    28440\n",
       "D    28440\n",
       "E    28440\n",
       "F    28440\n",
       "G    28440\n",
       "H    28440\n",
       "Name: sehir, dtype: int64"
      ]
     },
     "execution_count": 243,
     "metadata": {},
     "output_type": "execute_result"
    }
   ],
   "source": [
    "train.sehir.value_counts()"
   ]
  },
  {
   "cell_type": "code",
   "execution_count": 244,
   "id": "e0353436",
   "metadata": {},
   "outputs": [
    {
     "data": {
      "text/plain": [
       "tarih         0\n",
       "urun          0\n",
       "besin         0\n",
       "kategori      0\n",
       "fiyat         0\n",
       "uretimyeri    0\n",
       "market        0\n",
       "sehir         0\n",
       "dtype: int64"
      ]
     },
     "execution_count": 244,
     "metadata": {},
     "output_type": "execute_result"
    }
   ],
   "source": [
    "train.isnull().sum()"
   ]
  },
  {
   "cell_type": "code",
   "execution_count": 247,
   "id": "e37f0aa3",
   "metadata": {},
   "outputs": [
    {
     "data": {
      "text/plain": [
       "'Ürünlerin ortalama değerleri alındığında yaklaşık olarak liner bir aatış görülmektedir.\\n   Ortalama bir artış değeri ülkenin yıllar içindeki artışına eşit diyebiliriz'"
      ]
     },
     "execution_count": 247,
     "metadata": {},
     "output_type": "execute_result"
    }
   ],
   "source": [
    "'''Ürünlerin ortalama değerleri alındığında yaklaşık olarak liner bir aatış görülmektedir.\n",
    "   Ortalama bir artış değeri ülkenin yıllar içindeki artışına eşit diyebiliriz'''"
   ]
  },
  {
   "cell_type": "code",
   "execution_count": 248,
   "id": "ba170cc1",
   "metadata": {},
   "outputs": [],
   "source": [
    "urunler=train[\"urun\"].unique()"
   ]
  },
  {
   "cell_type": "code",
   "execution_count": 249,
   "id": "31b2bb34",
   "metadata": {},
   "outputs": [
    {
     "data": {
      "text/plain": [
       "array(['kıyma', 'tavuk', 'hindi', 'Bakla-kuru', 'Bakla-taze', 'Bamya',\n",
       "       'Barbunya-kuru', 'Bezelye-taze', 'Biber-yeşil', 'Brüksel laha.',\n",
       "       'Domates', 'Enginar', 'Fasulye-kuru', 'Fasulye-taze', 'Havuç',\n",
       "       'Salatalık', 'Ispanak', 'Kabak', 'Karnabahar', 'Kereviz-baş',\n",
       "       'Kırmızı-pancar', 'Lahana', 'Mantar', 'Marul', 'Mercimek-kuru',\n",
       "       'Nohut', 'Pancar', 'Patates', 'Patlıcan', 'Pazı', 'Pırasa',\n",
       "       'Semizotu', 'Buğday ekmeği', 'Bulgur', 'Erişte', 'Makarna',\n",
       "       'Mısır', 'Mısır unu', 'Nişasta', 'Pilav', 'Pirinç unu', 'Şehriye',\n",
       "       'Tarhana', 'Yulaf unu', 'yumurta', 'beyaz peynir', 'Kaşar peyniri',\n",
       "       'krema', 'yoğurt', 'sucuk', 'salam', 'sosis', 'tam buğday ekmek',\n",
       "       'kaymak', 'bal', 'tereyağ', 'Armut', 'Çilek', 'Elma',\n",
       "       'Erik türleri', 'İncir', 'Karadut', 'Karpuz', 'Kavun', 'Kayısı',\n",
       "       'Kiraz', 'Limon', 'Mandalina', 'Muz', 'Nar', 'Portakal', 'Şeftali',\n",
       "       'Üzüm', 'Vişne', 'fındık', 'fıstık', 'kaju', 'badem', 'ceviz'],\n",
       "      dtype=object)"
      ]
     },
     "execution_count": 249,
     "metadata": {},
     "output_type": "execute_result"
    }
   ],
   "source": [
    "urunler"
   ]
  },
  {
   "cell_type": "code",
   "execution_count": 250,
   "id": "73e91b77",
   "metadata": {},
   "outputs": [],
   "source": [
    "#Ürün Bazında 5 Yıl için Aylık Enflasyon Değerinin Hesaplanması"
   ]
  },
  {
   "cell_type": "code",
   "execution_count": 285,
   "id": "e983082b",
   "metadata": {},
   "outputs": [],
   "source": [
    "toplam_enflasyon=0\n",
    "enflasyon=0\n",
    "for urun in urunler:\n",
    "    malzeme= train[train['urun'].isin([urun])]\n",
    "    aylik_enflasyon=malzeme.groupby(\"tarih\").mean()\n",
    "    #aylik_enflasyon=aylik_enflasyon[12:] # 2016 yılını tamamen çıkarırsak daha iyi bir sonuç elde edebiliyoruz.\n",
    "    aylik_enflasyon[\"enflasyon\"]=0\n",
    "    aylik_enflasyon=aylik_enflasyon.drop(\"besin\",axis=1)\n",
    "    for x in range(59):\n",
    "        if x==59:\n",
    "            aylik_enflasyon.iloc[x:y,2:3]=0\n",
    "        else:\n",
    "            y=x+1\n",
    "            z=y+1\n",
    "            aylik_enflasyon.iloc[x:y,1:2]=aylik_enflasyon.iloc[y:z,0:1].values/aylik_enflasyon.iloc[x:y,0:1].values\n",
    "            #aylik_enflasyon.iloc[x:y,2:3]=aylik_enflasyon.iloc[y:z,0:1].values-aylik_enflasyon.iloc[x:y,0:1].values\n",
    "            #aylik_enflasyon.iloc[x:y,3:4]=(aylik_enflasyon.iloc[x:y,2:3].values*100)/aylik_enflasyon.iloc[x:y,0:1].values\n",
    "    toplam_enflasyon=toplam_enflasyon+(aylik_enflasyon[\"enflasyon\"].sum()/58)"
   ]
  },
  {
   "cell_type": "code",
   "execution_count": 286,
   "id": "49cefabb",
   "metadata": {},
   "outputs": [
    {
     "data": {
      "text/html": [
       "<div>\n",
       "<style scoped>\n",
       "    .dataframe tbody tr th:only-of-type {\n",
       "        vertical-align: middle;\n",
       "    }\n",
       "\n",
       "    .dataframe tbody tr th {\n",
       "        vertical-align: top;\n",
       "    }\n",
       "\n",
       "    .dataframe thead th {\n",
       "        text-align: right;\n",
       "    }\n",
       "</style>\n",
       "<table border=\"1\" class=\"dataframe\">\n",
       "  <thead>\n",
       "    <tr style=\"text-align: right;\">\n",
       "      <th></th>\n",
       "      <th>fiyat</th>\n",
       "      <th>enflasyon</th>\n",
       "    </tr>\n",
       "    <tr>\n",
       "      <th>tarih</th>\n",
       "      <th></th>\n",
       "      <th></th>\n",
       "    </tr>\n",
       "  </thead>\n",
       "  <tbody>\n",
       "    <tr>\n",
       "      <th>2016-01-01</th>\n",
       "      <td>18.120833</td>\n",
       "      <td>1.010152</td>\n",
       "    </tr>\n",
       "    <tr>\n",
       "      <th>2016-02-01</th>\n",
       "      <td>18.304792</td>\n",
       "      <td>1.012713</td>\n",
       "    </tr>\n",
       "    <tr>\n",
       "      <th>2016-03-01</th>\n",
       "      <td>18.537500</td>\n",
       "      <td>1.019375</td>\n",
       "    </tr>\n",
       "    <tr>\n",
       "      <th>2016-04-01</th>\n",
       "      <td>18.896667</td>\n",
       "      <td>1.015721</td>\n",
       "    </tr>\n",
       "    <tr>\n",
       "      <th>2016-05-01</th>\n",
       "      <td>19.193750</td>\n",
       "      <td>1.015836</td>\n",
       "    </tr>\n",
       "  </tbody>\n",
       "</table>\n",
       "</div>"
      ],
      "text/plain": [
       "                fiyat  enflasyon\n",
       "tarih                           \n",
       "2016-01-01  18.120833   1.010152\n",
       "2016-02-01  18.304792   1.012713\n",
       "2016-03-01  18.537500   1.019375\n",
       "2016-04-01  18.896667   1.015721\n",
       "2016-05-01  19.193750   1.015836"
      ]
     },
     "execution_count": 286,
     "metadata": {},
     "output_type": "execute_result"
    }
   ],
   "source": [
    "aylik_enflasyon.head()"
   ]
  },
  {
   "cell_type": "code",
   "execution_count": 287,
   "id": "144d5737",
   "metadata": {},
   "outputs": [
    {
     "data": {
      "text/plain": [
       "[<matplotlib.lines.Line2D at 0x27f73b77dc0>]"
      ]
     },
     "execution_count": 287,
     "metadata": {},
     "output_type": "execute_result"
    },
    {
     "data": {
      "image/png": "[encoded data removed]",
      "text/plain": [
       "<Figure size 432x288 with 1 Axes>"
      ]
     },
     "metadata": {
      "needs_background": "light"
     },
     "output_type": "display_data"
    }
   ],
   "source": [
    "fiyat = aylik_enflasyon['fiyat']\n",
    "plt.plot(fiyat)"
   ]
  },
  {
   "cell_type": "code",
   "execution_count": 254,
   "id": "9d90ee35",
   "metadata": {},
   "outputs": [],
   "source": [
    "# Her bir ürün için ortalama aylık enflasyon"
   ]
  },
  {
   "cell_type": "code",
   "execution_count": 255,
   "id": "0f7c0985",
   "metadata": {},
   "outputs": [],
   "source": [
    "enflasyon=toplam_enflasyon/79"
   ]
  },
  {
   "cell_type": "code",
   "execution_count": 256,
   "id": "adcc0cec",
   "metadata": {},
   "outputs": [],
   "source": [
    "# 2020 Aralık Ayı verileri"
   ]
  },
  {
   "cell_type": "code",
   "execution_count": 257,
   "id": "18cf7c4f",
   "metadata": {},
   "outputs": [],
   "source": [
    "tarih2020=train.iloc[223728:,:]"
   ]
  },
  {
   "cell_type": "code",
   "execution_count": 258,
   "id": "697630a9",
   "metadata": {},
   "outputs": [],
   "source": [
    "# 2021 Yılının her ayı için ürün fiyatlarının hesaplanması"
   ]
  },
  {
   "cell_type": "code",
   "execution_count": 259,
   "id": "1f829c08",
   "metadata": {},
   "outputs": [],
   "source": [
    "ocak2021=tarih2020[\"fiyat\"]*enflasyon\n",
    "subat2021=ocak2021*enflasyon\n",
    "mart2021=subat2021*enflasyon\n",
    "nisan2021=mart2021*enflasyon\n",
    "mayıs2021=nisan2021*enflasyon\n",
    "haziran2021=mayıs2021*enflasyon\n",
    "temmuz2021=haziran2021*enflasyon\n",
    "agustos2021=temmuz2021*enflasyon\n",
    "eylul2021=agustos2021*enflasyon\n",
    "ekim2021=eylul2021*enflasyon\n",
    "kasim2021=ekim2021*enflasyon\n",
    "aralik2021=kasim2021*enflasyon"
   ]
  },
  {
   "cell_type": "code",
   "execution_count": 260,
   "id": "c2f007e2",
   "metadata": {},
   "outputs": [],
   "source": [
    "# 2021 Yılının Toplu Hale Getirilmesi"
   ]
  },
  {
   "cell_type": "code",
   "execution_count": 261,
   "id": "7bbe930b",
   "metadata": {},
   "outputs": [],
   "source": [
    "tarih2021=pd.concat([ocak2021,subat2021,mart2021,nisan2021,mayıs2021,haziran2021,temmuz2021,agustos2021,eylul2021,ekim2021,kasim2021,aralik2021]).reset_index()"
   ]
  },
  {
   "cell_type": "code",
   "execution_count": 262,
   "id": "8a1b42a0",
   "metadata": {},
   "outputs": [
    {
     "data": {
      "text/html": [
       "<div>\n",
       "<style scoped>\n",
       "    .dataframe tbody tr th:only-of-type {\n",
       "        vertical-align: middle;\n",
       "    }\n",
       "\n",
       "    .dataframe tbody tr th {\n",
       "        vertical-align: top;\n",
       "    }\n",
       "\n",
       "    .dataframe thead th {\n",
       "        text-align: right;\n",
       "    }\n",
       "</style>\n",
       "<table border=\"1\" class=\"dataframe\">\n",
       "  <thead>\n",
       "    <tr style=\"text-align: right;\">\n",
       "      <th></th>\n",
       "      <th>index</th>\n",
       "      <th>fiyat</th>\n",
       "    </tr>\n",
       "  </thead>\n",
       "  <tbody>\n",
       "    <tr>\n",
       "      <th>0</th>\n",
       "      <td>223728</td>\n",
       "      <td>120.280588</td>\n",
       "    </tr>\n",
       "    <tr>\n",
       "      <th>1</th>\n",
       "      <td>223729</td>\n",
       "      <td>39.089633</td>\n",
       "    </tr>\n",
       "    <tr>\n",
       "      <th>2</th>\n",
       "      <td>223730</td>\n",
       "      <td>39.640045</td>\n",
       "    </tr>\n",
       "    <tr>\n",
       "      <th>3</th>\n",
       "      <td>223731</td>\n",
       "      <td>23.750795</td>\n",
       "    </tr>\n",
       "    <tr>\n",
       "      <th>4</th>\n",
       "      <td>223732</td>\n",
       "      <td>42.350565</td>\n",
       "    </tr>\n",
       "  </tbody>\n",
       "</table>\n",
       "</div>"
      ],
      "text/plain": [
       "    index       fiyat\n",
       "0  223728  120.280588\n",
       "1  223729   39.089633\n",
       "2  223730   39.640045\n",
       "3  223731   23.750795\n",
       "4  223732   42.350565"
      ]
     },
     "execution_count": 262,
     "metadata": {},
     "output_type": "execute_result"
    }
   ],
   "source": [
    "tarih2021.head()"
   ]
  },
  {
   "cell_type": "code",
   "execution_count": 263,
   "id": "6ab5ebf4",
   "metadata": {},
   "outputs": [],
   "source": [
    "sutunisimler=[\"id\",\"ürün fiyatı\"]\n",
    "tarih2021.columns=sutunisimler"
   ]
  },
  {
   "cell_type": "code",
   "execution_count": 264,
   "id": "af812270",
   "metadata": {},
   "outputs": [],
   "source": [
    "tarih2021[\"id\"]=tarih2021.index"
   ]
  },
  {
   "cell_type": "code",
   "execution_count": 265,
   "id": "ac9eb11d",
   "metadata": {},
   "outputs": [],
   "source": [
    "#tarih2021.to_csv(\"veriler\\datathon\\sonuclar\\\\datathon_final.csv\",index=False)"
   ]
  },
  {
   "cell_type": "code",
   "execution_count": null,
   "id": "20ff7999",
   "metadata": {},
   "outputs": [],
   "source": []
  }
 ],
 "metadata": {
  "kernelspec": {
   "display_name": "Python 3 (ipykernel)",
   "language": "python",
   "name": "python3"
  },
  "language_info": {
   "codemirror_mode": {
    "name": "ipython",
    "version": 3
   },
   "file_extension": ".py",
   "mimetype": "text/x-python",
   "name": "python",
   "nbconvert_exporter": "python",
   "pygments_lexer": "ipython3",
   "version": "3.10.3"
  }
 },
 "nbformat": 4,
 "nbformat_minor": 5
}
